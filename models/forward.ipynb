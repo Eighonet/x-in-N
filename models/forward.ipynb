{
 "cells": [
  {
   "cell_type": "code",
   "execution_count": 4,
   "id": "documentary-general",
   "metadata": {},
   "outputs": [
    {
     "name": "stdout",
     "output_type": "stream",
     "text": [
      "1.6.0\n",
      "10.2\n"
     ]
    }
   ],
   "source": [
    "import torch; \n",
    "print(torch.__version__)\n",
    "print(torch.version.cuda)"
   ]
  },
  {
   "cell_type": "code",
   "execution_count": 5,
   "id": "revised-cricket",
   "metadata": {},
   "outputs": [
    {
     "name": "stdout",
     "output_type": "stream",
     "text": [
      "10.2\n"
     ]
    }
   ],
   "source": [
    "import torch; \n",
    "print(torch.version.cuda)"
   ]
  },
  {
   "cell_type": "code",
   "execution_count": 6,
   "id": "bearing-collect",
   "metadata": {
    "collapsed": true
   },
   "outputs": [
    {
     "name": "stdout",
     "output_type": "stream",
     "text": [
      "Looking in links: https://pytorch-geometric.com/whl/torch-1.6.0+cu102.html\n",
      "Requirement already satisfied: torch-scatter in /home/user/conda/lib/python3.7/site-packages (2.0.6)\n",
      "Looking in links: https://pytorch-geometric.com/whl/torch-1.6.0+cu102.html\n",
      "Requirement already satisfied: torch-sparse in /home/user/conda/lib/python3.7/site-packages (0.6.9)\n",
      "Requirement already satisfied: scipy in /home/jovyan/.local/lib/python3.7/site-packages (from torch-sparse) (1.4.1)\n",
      "Requirement already satisfied: numpy>=1.13.3 in /home/jovyan/.local/lib/python3.7/site-packages (from scipy->torch-sparse) (1.18.0)\n",
      "Looking in links: https://pytorch-geometric.com/whl/torch-1.6.0+cu102.html\n",
      "Requirement already satisfied: torch-cluster in /home/user/conda/lib/python3.7/site-packages (1.5.9)\n",
      "Looking in links: https://pytorch-geometric.com/whl/torch-1.6.0+cu102.html\n",
      "Requirement already satisfied: torch-spline-conv in /home/user/conda/lib/python3.7/site-packages (1.2.1)\n",
      "Requirement already satisfied: torch-geometric in /home/user/conda/lib/python3.7/site-packages (1.7.0)\n",
      "Requirement already satisfied: pandas in /home/jovyan/.local/lib/python3.7/site-packages (from torch-geometric) (0.25.3)\n",
      "Requirement already satisfied: googledrivedownloader in /home/user/conda/lib/python3.7/site-packages (from torch-geometric) (0.4)\n",
      "Requirement already satisfied: numpy in /home/jovyan/.local/lib/python3.7/site-packages (from torch-geometric) (1.18.0)\n",
      "Requirement already satisfied: h5py in /home/jovyan/.local/lib/python3.7/site-packages (from torch-geometric) (2.10.0)\n",
      "Requirement already satisfied: requests in /home/jovyan/.local/lib/python3.7/site-packages (from torch-geometric) (2.22.0)\n",
      "Requirement already satisfied: rdflib in /home/jovyan/.local/lib/python3.7/site-packages (from torch-geometric) (5.0.0)\n",
      "Requirement already satisfied: scipy in /home/jovyan/.local/lib/python3.7/site-packages (from torch-geometric) (1.4.1)\n",
      "Requirement already satisfied: networkx in /home/user/conda/lib/python3.7/site-packages (from torch-geometric) (2.5.1)\n",
      "Requirement already satisfied: jinja2 in /home/user/conda/lib/python3.7/site-packages (from torch-geometric) (2.11.3)\n",
      "Requirement already satisfied: numba in /home/jovyan/.local/lib/python3.7/site-packages (from torch-geometric) (0.53.1)\n",
      "Requirement already satisfied: tqdm in /home/jovyan/.local/lib/python3.7/site-packages (from torch-geometric) (4.41.1)\n",
      "Requirement already satisfied: ase in /home/user/conda/lib/python3.7/site-packages (from torch-geometric) (3.21.1)\n",
      "Requirement already satisfied: python-louvain in /home/user/conda/lib/python3.7/site-packages (from torch-geometric) (0.15)\n",
      "Requirement already satisfied: scikit-learn in /home/jovyan/.local/lib/python3.7/site-packages (from torch-geometric) (0.21.2)\n",
      "Requirement already satisfied: matplotlib>=2.0.0 in /home/user/conda/lib/python3.7/site-packages (from ase->torch-geometric) (3.3.4)\n",
      "Requirement already satisfied: python-dateutil>=2.1 in /home/user/conda/lib/python3.7/site-packages (from matplotlib>=2.0.0->ase->torch-geometric) (2.8.1)\n",
      "Requirement already satisfied: pillow>=6.2.0 in /home/user/conda/lib/python3.7/site-packages (from matplotlib>=2.0.0->ase->torch-geometric) (8.1.1)\n",
      "Requirement already satisfied: cycler>=0.10 in /home/user/conda/lib/python3.7/site-packages (from matplotlib>=2.0.0->ase->torch-geometric) (0.10.0)\n",
      "Requirement already satisfied: pyparsing!=2.0.4,!=2.1.2,!=2.1.6,>=2.0.3 in /home/user/conda/lib/python3.7/site-packages (from matplotlib>=2.0.0->ase->torch-geometric) (2.4.7)\n",
      "Requirement already satisfied: kiwisolver>=1.0.1 in /home/user/conda/lib/python3.7/site-packages (from matplotlib>=2.0.0->ase->torch-geometric) (1.3.1)\n",
      "Requirement already satisfied: six in /home/jovyan/.local/lib/python3.7/site-packages (from cycler>=0.10->matplotlib>=2.0.0->ase->torch-geometric) (1.15.0)\n",
      "Requirement already satisfied: MarkupSafe>=0.23 in /home/user/conda/lib/python3.7/site-packages (from jinja2->torch-geometric) (1.1.1)\n",
      "Requirement already satisfied: decorator<5,>=4.3 in /home/user/conda/lib/python3.7/site-packages (from networkx->torch-geometric) (4.4.2)\n",
      "Requirement already satisfied: setuptools in /home/jovyan/.local/lib/python3.7/site-packages (from numba->torch-geometric) (56.0.0)\n",
      "Requirement already satisfied: llvmlite<0.37,>=0.36.0rc1 in /home/jovyan/.local/lib/python3.7/site-packages (from numba->torch-geometric) (0.36.0)\n",
      "Requirement already satisfied: pytz>=2017.2 in /home/jovyan/.local/lib/python3.7/site-packages (from pandas->torch-geometric) (2019.1)\n",
      "Requirement already satisfied: isodate in /home/jovyan/.local/lib/python3.7/site-packages (from rdflib->torch-geometric) (0.6.0)\n",
      "Requirement already satisfied: idna<2.9,>=2.5 in /home/jovyan/.local/lib/python3.7/site-packages (from requests->torch-geometric) (2.8)\n",
      "Requirement already satisfied: certifi>=2017.4.17 in /home/jovyan/.local/lib/python3.7/site-packages (from requests->torch-geometric) (2020.12.5)\n",
      "Requirement already satisfied: chardet<3.1.0,>=3.0.2 in /home/jovyan/.local/lib/python3.7/site-packages (from requests->torch-geometric) (3.0.4)\n",
      "Requirement already satisfied: urllib3!=1.25.0,!=1.25.1,<1.26,>=1.21.1 in /home/jovyan/.local/lib/python3.7/site-packages (from requests->torch-geometric) (1.25.11)\n",
      "Requirement already satisfied: joblib>=0.11 in /home/jovyan/.local/lib/python3.7/site-packages (from scikit-learn->torch-geometric) (1.0.1)\n"
     ]
    }
   ],
   "source": [
    "!pip install torch-scatter -f https://pytorch-geometric.com/whl/torch-1.6.0+cu102.html\n",
    "!pip install torch-sparse -f https://pytorch-geometric.com/whl/torch-1.6.0+cu102.html\n",
    "!pip install torch-cluster -f https://pytorch-geometric.com/whl/torch-1.6.0+cu102.html\n",
    "!pip install torch-spline-conv -f https://pytorch-geometric.com/whl/torch-1.6.0+cu102.html\n",
    "!pip install torch-geometric"
   ]
  },
  {
   "cell_type": "code",
   "execution_count": 7,
   "id": "involved-scotland",
   "metadata": {},
   "outputs": [],
   "source": [
    "import os.path as osp\n",
    "import argparse\n",
    "\n",
    "import torch\n",
    "import torch.nn.functional as F\n",
    "import torch_geometric.transforms as T\n",
    "from torch_geometric.nn import GCNConv\n",
    "from tqdm import tqdm\n",
    "from IPython.core.debugger import set_trace"
   ]
  },
  {
   "cell_type": "code",
   "execution_count": 3,
   "id": "indie-characteristic",
   "metadata": {},
   "outputs": [
    {
     "name": "stdout",
     "output_type": "stream",
     "text": [
      "# conda environments:\r\n",
      "#\r\n",
      "base                  *  /home/user/conda\r\n",
      "\r\n"
     ]
    }
   ],
   "source": [
    "!conda env list"
   ]
  },
  {
   "cell_type": "code",
   "execution_count": 8,
   "id": "seasonal-trademark",
   "metadata": {},
   "outputs": [],
   "source": [
    "def edge_pred_prep(data):\n",
    "    E = data.edge_index.T.tolist()\n",
    "    size = len(set([n for e in E for n in e])) \n",
    "    adjacency = [[0]*size for _ in range(size)]\n",
    "    for sink, source in E:\n",
    "        adjacency[sink][source] = 1\n",
    "\n",
    "    yy = []\n",
    "    for i in range(len(data.x)):\n",
    "        for j in range(i, len(data.x)):\n",
    "              yy.append(adjacency[i][j])\n",
    "\n",
    "    y_edge = torch.Tensor(yy).int()\n",
    "    data.y = y_edge.long()\n",
    "    \n",
    "    mask = [False for _ in range(len(y_edge))]\n",
    "    train_mask = mask.copy()\n",
    "    val_mask = mask.copy()\n",
    "    test_mask = mask.copy()\n",
    "    \n",
    "    for i in range(int(len(y_edge)*1/100)):\n",
    "        train_mask[i] = True\n",
    "\n",
    "    for i in range(int(len(y_edge)*1/100), int(len(y_edge)*2/3)):\n",
    "        val_mask[i] = True\n",
    "\n",
    "    for i in range(int(len(y_edge)*1/100), len(y_edge)):\n",
    "        test_mask[i] = True\n",
    "        \n",
    "    data.train_mask = torch.Tensor(train_mask).bool()\n",
    "    data.val_mask = torch.Tensor(val_mask).bool()\n",
    "    data.test_mask = torch.Tensor(test_mask).bool()"
   ]
  },
  {
   "cell_type": "code",
   "execution_count": null,
   "id": "standard-sponsorship",
   "metadata": {},
   "outputs": [],
   "source": [
    "SENTENSES_SIZE = 10"
   ]
  },
  {
   "cell_type": "code",
   "execution_count": 9,
   "id": "geological-costa",
   "metadata": {},
   "outputs": [],
   "source": [
    "class Net(torch.nn.Module):\n",
    "    def __init__(self):\n",
    "        super(Net, self).__init__()\n",
    "        self.conv1 = GCNConv(1433, 16, cached=True,\n",
    "                             normalize=True)\n",
    "        self.conv2 = GCNConv(16, 2, cached=True,\n",
    "                             normalize=True)\n",
    "\n",
    "    def forward(self):\n",
    "        \n",
    "        def doc_embedding(x):\n",
    "            doc_embeddings = torch.empty([len(SENTENSES), 2], device=torch.device('cuda:0'))\n",
    "            for i in tqdm(len(SENTENSES)):\n",
    "                for j in range(SENTENSES[i]):\n",
    "                    doc_embedding[i] += x[SENTENSES[i][j]]\n",
    "            return doc_embeddings\n",
    "                \n",
    "        \n",
    "        def edge_embedding(x):\n",
    "            index = 0\n",
    "            edge_embeddings = torch.empty([3667986, 2], device=torch.device('cuda:0'))\n",
    "            print(len(x))\n",
    "            for i in tqdm(range(len(x))):\n",
    "                for j in range(i, len(x)):\n",
    "                    \n",
    "                    edge_embeddings[index] = torch.mul(x[i], x[j])\n",
    "                    index += 1\n",
    "            return edge_embeddings\n",
    "\n",
    "        x, edge_index, edge_weight = data.x, data.edge_index, data.edge_attr\n",
    "        x = F.relu(self.conv1(x, edge_index, None))\n",
    "        x = F.dropout(x, training=self.training)\n",
    "        x = self.conv2(x, edge_index, None)\n",
    "        print(len(x))\n",
    "        print(len(x[0]))\n",
    "        edge_x = edge_embedding(x)\n",
    "        return F.log_softmax(edge_x, dim=1)\n",
    "\n",
    "def train():\n",
    "    model.train()\n",
    "    optimizer.zero_grad()\n",
    "    F.nll_loss(model()[data.train_mask], data.y[data.train_mask]).backward()\n",
    "    optimizer.step()\n",
    "    return model()\n",
    "\n",
    "\n",
    "@torch.no_grad()\n",
    "def test():\n",
    "    model.eval()\n",
    "    logits, accs = model(), []\n",
    "    for _, mask in data('train_mask', 'val_mask', 'test_mask'):\n",
    "        pred = logits[mask].max(1)[1]\n",
    "#       print(logits[mask].max(1))\n",
    "#        print(mask)\n",
    "        acc = pred.eq(data.y[mask]).sum().item() / mask.sum().item()\n",
    "        accs.append(acc)\n",
    "    return [accs, pred]"
   ]
  },
  {
   "cell_type": "code",
   "execution_count": null,
   "id": "executed-format",
   "metadata": {},
   "outputs": [],
   "source": []
  },
  {
   "cell_type": "code",
   "execution_count": null,
   "id": "welcome-princess",
   "metadata": {},
   "outputs": [],
   "source": []
  },
  {
   "cell_type": "code",
   "execution_count": null,
   "id": "loved-single",
   "metadata": {},
   "outputs": [],
   "source": []
  },
  {
   "cell_type": "code",
   "execution_count": null,
   "id": "challenging-tracker",
   "metadata": {},
   "outputs": [],
   "source": [
    "edge_index = torch.tensor(np.array(lst).T, dtype=torch.long)"
   ]
  },
  {
   "cell_type": "code",
   "execution_count": null,
   "id": "capable-russia",
   "metadata": {},
   "outputs": [],
   "source": [
    "train_mask = []\n",
    "test_mask = []\n",
    "for i in range(len(graph)):\n",
    "    train_mask.append(True)\n",
    "    test_mask.append(False)\n",
    "for i in range(int(len(graph)*4/5), len(graph)):\n",
    "    train_mask[i] = False\n",
    "    test_mask[i] = True"
   ]
  },
  {
   "cell_type": "code",
   "execution_count": null,
   "id": "green-disney",
   "metadata": {},
   "outputs": [],
   "source": [
    "train_mask = torch.tensor(train_mask, dtype=torch.bool)\n",
    "test_mask = torch.tensor(test_mask, dtype=torch.bool)"
   ]
  },
  {
   "cell_type": "code",
   "execution_count": null,
   "id": "weighted-rapid",
   "metadata": {},
   "outputs": [],
   "source": [
    "x = torch.tensor(graph_enc.drop([\"edge_id\", \"adjacent\"], axis = 1).to_numpy(), dtype=torch.float)\n",
    "y = torch.tensor(graph_enc[\"length\"].to_numpy(), dtype=torch.float)\n",
    "data = Data(x=x, edge_index=edge_index, train_mask = train_mask, test_mask = test_mask)"
   ]
  },
  {
   "cell_type": "code",
   "execution_count": null,
   "id": "lovely-print",
   "metadata": {},
   "outputs": [],
   "source": []
  },
  {
   "cell_type": "code",
   "execution_count": 10,
   "id": "identified-brunswick",
   "metadata": {},
   "outputs": [],
   "source": [
    "from torch_geometric.datasets import KarateClub\n",
    "from torch_geometric.datasets import Planetoid"
   ]
  },
  {
   "cell_type": "code",
   "execution_count": 11,
   "id": "damaged-benchmark",
   "metadata": {},
   "outputs": [],
   "source": [
    "#dataset = KarateClub()\n",
    "#data = dataset[0]"
   ]
  },
  {
   "cell_type": "code",
   "execution_count": 12,
   "id": "executive-louisiana",
   "metadata": {},
   "outputs": [
    {
     "name": "stdout",
     "output_type": "stream",
     "text": [
      "Downloading https://github.com/kimiyoung/planetoid/raw/master/data/ind.cora.x\n",
      "Downloading https://github.com/kimiyoung/planetoid/raw/master/data/ind.cora.tx\n",
      "Downloading https://github.com/kimiyoung/planetoid/raw/master/data/ind.cora.allx\n",
      "Downloading https://github.com/kimiyoung/planetoid/raw/master/data/ind.cora.y\n",
      "Downloading https://github.com/kimiyoung/planetoid/raw/master/data/ind.cora.ty\n",
      "Downloading https://github.com/kimiyoung/planetoid/raw/master/data/ind.cora.ally\n",
      "Downloading https://github.com/kimiyoung/planetoid/raw/master/data/ind.cora.graph\n",
      "Downloading https://github.com/kimiyoung/planetoid/raw/master/data/ind.cora.test.index\n",
      "Processing...\n",
      "Done!\n"
     ]
    }
   ],
   "source": [
    "dataset = Planetoid(root='/tmp/Cora', name='Cora')\n",
    "data = dataset[0]"
   ]
  },
  {
   "cell_type": "code",
   "execution_count": 13,
   "id": "offshore-culture",
   "metadata": {},
   "outputs": [],
   "source": [
    "edge_pred_prep(data)"
   ]
  },
  {
   "cell_type": "code",
   "execution_count": 14,
   "id": "equivalent-weekly",
   "metadata": {},
   "outputs": [
    {
     "data": {
      "text/plain": [
       "Data(edge_index=[2, 10556], test_mask=[3667986], train_mask=[3667986], val_mask=[3667986], x=[2708, 1433], y=[3667986])"
      ]
     },
     "execution_count": 14,
     "metadata": {},
     "output_type": "execute_result"
    }
   ],
   "source": [
    "data"
   ]
  },
  {
   "cell_type": "code",
   "execution_count": 15,
   "id": "cultural-chase",
   "metadata": {},
   "outputs": [],
   "source": [
    "device = torch.device(\"cuda\" if torch.cuda.is_available() else \"cpu\")\n",
    "model, data = Net().to(device), data.to(device)\n",
    "optimizer = torch.optim.Adam([\n",
    "    dict(params=model.conv1.parameters(), weight_decay=5e-4),\n",
    "    dict(params=model.conv2.parameters(), weight_decay=0)\n",
    "], lr=0.01)  # Only perform weight-decay on first convolution.\n"
   ]
  },
  {
   "cell_type": "code",
   "execution_count": null,
   "id": "architectural-douglas",
   "metadata": {},
   "outputs": [],
   "source": [
    "dictionary = ['cake', \"is\", \"a\", 'lie', 'or', 'fake']\n",
    "senteses = ['Cake is a lie', 'Is cake a lie or a fake?']\n",
    "WINDOW_SIZE = 3"
   ]
  },
  {
   "cell_type": "code",
   "execution_count": null,
   "id": "smart-consortium",
   "metadata": {},
   "outputs": [],
   "source": [
    "def PMI(i, j):\n",
    "    \n",
    "def p(i, j):\n",
    "    \n",
    "    \n",
    "def p(i):\n",
    "    "
   ]
  },
  {
   "cell_type": "code",
   "execution_count": null,
   "id": "promotional-consultation",
   "metadata": {},
   "outputs": [],
   "source": [
    "for i in range(len(dictionary)):\n",
    "    for j in range(i, len(dictionary)):\n",
    "        \n",
    "            "
   ]
  },
  {
   "cell_type": "code",
   "execution_count": 16,
   "id": "potential-firmware",
   "metadata": {},
   "outputs": [
    {
     "name": "stderr",
     "output_type": "stream",
     "text": [
      "  0%|          | 2/2708 [00:00<04:04, 11.05it/s]"
     ]
    },
    {
     "name": "stdout",
     "output_type": "stream",
     "text": [
      "2708\n",
      "2\n",
      "2708\n"
     ]
    },
    {
     "name": "stderr",
     "output_type": "stream",
     "text": [
      "100%|██████████| 2708/2708 [02:09<00:00, 20.98it/s] \n",
      "  0%|          | 2/2708 [00:00<03:51, 11.67it/s]"
     ]
    },
    {
     "name": "stdout",
     "output_type": "stream",
     "text": [
      "2708\n",
      "2\n",
      "2708\n"
     ]
    },
    {
     "name": "stderr",
     "output_type": "stream",
     "text": [
      "100%|██████████| 2708/2708 [02:01<00:00, 22.28it/s] \n",
      "  0%|          | 2/2708 [00:00<02:42, 16.68it/s]"
     ]
    },
    {
     "name": "stdout",
     "output_type": "stream",
     "text": [
      "2708\n",
      "2\n",
      "2708\n"
     ]
    },
    {
     "name": "stderr",
     "output_type": "stream",
     "text": [
      "100%|██████████| 2708/2708 [01:22<00:00, 32.65it/s] \n",
      "  0%|          | 2/2708 [00:00<02:50, 15.91it/s]"
     ]
    },
    {
     "name": "stdout",
     "output_type": "stream",
     "text": [
      "2708\n",
      "2\n",
      "2708\n"
     ]
    },
    {
     "name": "stderr",
     "output_type": "stream",
     "text": [
      "100%|██████████| 2708/2708 [01:22<00:00, 32.84it/s] \n",
      "  0%|          | 2/2708 [00:00<04:03, 11.11it/s]"
     ]
    },
    {
     "name": "stdout",
     "output_type": "stream",
     "text": [
      "Epoch: 001, Train: 0.5834, Test: 0.7532\n",
      "2708\n",
      "2\n",
      "2708\n"
     ]
    },
    {
     "name": "stderr",
     "output_type": "stream",
     "text": [
      "100%|██████████| 2708/2708 [02:07<00:00, 21.29it/s] \n"
     ]
    },
    {
     "name": "stdout",
     "output_type": "stream",
     "text": [
      "2708\n",
      "2\n",
      "2708\n"
     ]
    },
    {
     "name": "stderr",
     "output_type": "stream",
     "text": [
      "100%|██████████| 2708/2708 [02:02<00:00, 22.10it/s] \n"
     ]
    },
    {
     "name": "stdout",
     "output_type": "stream",
     "text": [
      "2708\n",
      "2\n",
      "2708\n"
     ]
    },
    {
     "name": "stderr",
     "output_type": "stream",
     "text": [
      "100%|██████████| 2708/2708 [01:22<00:00, 32.79it/s] \n",
      "  0%|          | 2/2708 [00:00<02:40, 16.82it/s]"
     ]
    },
    {
     "name": "stdout",
     "output_type": "stream",
     "text": [
      "2708\n",
      "2\n",
      "2708\n"
     ]
    },
    {
     "name": "stderr",
     "output_type": "stream",
     "text": [
      "100%|██████████| 2708/2708 [01:22<00:00, 32.79it/s] \n",
      "  0%|          | 2/2708 [00:00<04:09, 10.86it/s]"
     ]
    },
    {
     "name": "stdout",
     "output_type": "stream",
     "text": [
      "Epoch: 002, Train: 0.9990, Test: 0.9986\n",
      "2708\n",
      "2\n",
      "2708\n"
     ]
    },
    {
     "name": "stderr",
     "output_type": "stream",
     "text": [
      "100%|██████████| 2708/2708 [02:02<00:00, 22.16it/s] \n"
     ]
    },
    {
     "ename": "KeyboardInterrupt",
     "evalue": "",
     "output_type": "error",
     "traceback": [
      "\u001b[0;31m---------------------------------------------------------------------------\u001b[0m",
      "\u001b[0;31mKeyboardInterrupt\u001b[0m                         Traceback (most recent call last)",
      "\u001b[0;32m<ipython-input-16-5398d14b1bf5>\u001b[0m in \u001b[0;36m<module>\u001b[0;34m\u001b[0m\n\u001b[1;32m      2\u001b[0m \u001b[0mbest_val_acc\u001b[0m \u001b[0;34m=\u001b[0m \u001b[0mtest_acc\u001b[0m \u001b[0;34m=\u001b[0m \u001b[0;36m0\u001b[0m\u001b[0;34m\u001b[0m\u001b[0;34m\u001b[0m\u001b[0m\n\u001b[1;32m      3\u001b[0m \u001b[0;32mfor\u001b[0m \u001b[0mepoch\u001b[0m \u001b[0;32min\u001b[0m \u001b[0mrange\u001b[0m\u001b[0;34m(\u001b[0m\u001b[0;36m1\u001b[0m\u001b[0;34m,\u001b[0m \u001b[0;36m201\u001b[0m\u001b[0;34m)\u001b[0m\u001b[0;34m:\u001b[0m\u001b[0;34m\u001b[0m\u001b[0;34m\u001b[0m\u001b[0m\n\u001b[0;32m----> 4\u001b[0;31m     \u001b[0mA\u001b[0m \u001b[0;34m=\u001b[0m \u001b[0mtrain\u001b[0m\u001b[0;34m(\u001b[0m\u001b[0;34m)\u001b[0m\u001b[0;34m\u001b[0m\u001b[0;34m\u001b[0m\u001b[0m\n\u001b[0m\u001b[1;32m      5\u001b[0m     \u001b[0mtrain_acc\u001b[0m\u001b[0;34m,\u001b[0m \u001b[0mval_acc\u001b[0m\u001b[0;34m,\u001b[0m \u001b[0mtmp_test_acc\u001b[0m \u001b[0;34m=\u001b[0m \u001b[0mtest\u001b[0m\u001b[0;34m(\u001b[0m\u001b[0;34m)\u001b[0m\u001b[0;34m[\u001b[0m\u001b[0;36m0\u001b[0m\u001b[0;34m]\u001b[0m\u001b[0;34m\u001b[0m\u001b[0;34m\u001b[0m\u001b[0m\n\u001b[1;32m      6\u001b[0m     \u001b[0moutput\u001b[0m \u001b[0;34m=\u001b[0m \u001b[0mtest\u001b[0m\u001b[0;34m(\u001b[0m\u001b[0;34m)\u001b[0m\u001b[0;34m[\u001b[0m\u001b[0;36m1\u001b[0m\u001b[0;34m]\u001b[0m\u001b[0;34m\u001b[0m\u001b[0;34m\u001b[0m\u001b[0m\n",
      "\u001b[0;32m<ipython-input-9-64d3d522e7e4>\u001b[0m in \u001b[0;36mtrain\u001b[0;34m()\u001b[0m\n\u001b[1;32m     32\u001b[0m     \u001b[0mmodel\u001b[0m\u001b[0;34m.\u001b[0m\u001b[0mtrain\u001b[0m\u001b[0;34m(\u001b[0m\u001b[0;34m)\u001b[0m\u001b[0;34m\u001b[0m\u001b[0;34m\u001b[0m\u001b[0m\n\u001b[1;32m     33\u001b[0m     \u001b[0moptimizer\u001b[0m\u001b[0;34m.\u001b[0m\u001b[0mzero_grad\u001b[0m\u001b[0;34m(\u001b[0m\u001b[0;34m)\u001b[0m\u001b[0;34m\u001b[0m\u001b[0;34m\u001b[0m\u001b[0m\n\u001b[0;32m---> 34\u001b[0;31m     \u001b[0mF\u001b[0m\u001b[0;34m.\u001b[0m\u001b[0mnll_loss\u001b[0m\u001b[0;34m(\u001b[0m\u001b[0mmodel\u001b[0m\u001b[0;34m(\u001b[0m\u001b[0;34m)\u001b[0m\u001b[0;34m[\u001b[0m\u001b[0mdata\u001b[0m\u001b[0;34m.\u001b[0m\u001b[0mtrain_mask\u001b[0m\u001b[0;34m]\u001b[0m\u001b[0;34m,\u001b[0m \u001b[0mdata\u001b[0m\u001b[0;34m.\u001b[0m\u001b[0my\u001b[0m\u001b[0;34m[\u001b[0m\u001b[0mdata\u001b[0m\u001b[0;34m.\u001b[0m\u001b[0mtrain_mask\u001b[0m\u001b[0;34m]\u001b[0m\u001b[0;34m)\u001b[0m\u001b[0;34m.\u001b[0m\u001b[0mbackward\u001b[0m\u001b[0;34m(\u001b[0m\u001b[0;34m)\u001b[0m\u001b[0;34m\u001b[0m\u001b[0;34m\u001b[0m\u001b[0m\n\u001b[0m\u001b[1;32m     35\u001b[0m     \u001b[0moptimizer\u001b[0m\u001b[0;34m.\u001b[0m\u001b[0mstep\u001b[0m\u001b[0;34m(\u001b[0m\u001b[0;34m)\u001b[0m\u001b[0;34m\u001b[0m\u001b[0;34m\u001b[0m\u001b[0m\n\u001b[1;32m     36\u001b[0m     \u001b[0;32mreturn\u001b[0m \u001b[0mmodel\u001b[0m\u001b[0;34m(\u001b[0m\u001b[0;34m)\u001b[0m\u001b[0;34m\u001b[0m\u001b[0;34m\u001b[0m\u001b[0m\n",
      "\u001b[0;32m/home/user/conda/lib/python3.7/site-packages/torch/tensor.py\u001b[0m in \u001b[0;36mbackward\u001b[0;34m(self, gradient, retain_graph, create_graph)\u001b[0m\n\u001b[1;32m    183\u001b[0m                 \u001b[0mproducts\u001b[0m\u001b[0;34m.\u001b[0m \u001b[0mDefaults\u001b[0m \u001b[0mto\u001b[0m\u001b[0;31m \u001b[0m\u001b[0;31m`\u001b[0m\u001b[0;31m`\u001b[0m\u001b[0;32mFalse\u001b[0m\u001b[0;31m`\u001b[0m\u001b[0;31m`\u001b[0m\u001b[0;34m.\u001b[0m\u001b[0;34m\u001b[0m\u001b[0;34m\u001b[0m\u001b[0m\n\u001b[1;32m    184\u001b[0m         \"\"\"\n\u001b[0;32m--> 185\u001b[0;31m         \u001b[0mtorch\u001b[0m\u001b[0;34m.\u001b[0m\u001b[0mautograd\u001b[0m\u001b[0;34m.\u001b[0m\u001b[0mbackward\u001b[0m\u001b[0;34m(\u001b[0m\u001b[0mself\u001b[0m\u001b[0;34m,\u001b[0m \u001b[0mgradient\u001b[0m\u001b[0;34m,\u001b[0m \u001b[0mretain_graph\u001b[0m\u001b[0;34m,\u001b[0m \u001b[0mcreate_graph\u001b[0m\u001b[0;34m)\u001b[0m\u001b[0;34m\u001b[0m\u001b[0;34m\u001b[0m\u001b[0m\n\u001b[0m\u001b[1;32m    186\u001b[0m \u001b[0;34m\u001b[0m\u001b[0m\n\u001b[1;32m    187\u001b[0m     \u001b[0;32mdef\u001b[0m \u001b[0mregister_hook\u001b[0m\u001b[0;34m(\u001b[0m\u001b[0mself\u001b[0m\u001b[0;34m,\u001b[0m \u001b[0mhook\u001b[0m\u001b[0;34m)\u001b[0m\u001b[0;34m:\u001b[0m\u001b[0;34m\u001b[0m\u001b[0;34m\u001b[0m\u001b[0m\n",
      "\u001b[0;32m/home/user/conda/lib/python3.7/site-packages/torch/autograd/__init__.py\u001b[0m in \u001b[0;36mbackward\u001b[0;34m(tensors, grad_tensors, retain_graph, create_graph, grad_variables)\u001b[0m\n\u001b[1;32m    125\u001b[0m     Variable._execution_engine.run_backward(\n\u001b[1;32m    126\u001b[0m         \u001b[0mtensors\u001b[0m\u001b[0;34m,\u001b[0m \u001b[0mgrad_tensors\u001b[0m\u001b[0;34m,\u001b[0m \u001b[0mretain_graph\u001b[0m\u001b[0;34m,\u001b[0m \u001b[0mcreate_graph\u001b[0m\u001b[0;34m,\u001b[0m\u001b[0;34m\u001b[0m\u001b[0;34m\u001b[0m\u001b[0m\n\u001b[0;32m--> 127\u001b[0;31m         allow_unreachable=True)  # allow_unreachable flag\n\u001b[0m\u001b[1;32m    128\u001b[0m \u001b[0;34m\u001b[0m\u001b[0m\n\u001b[1;32m    129\u001b[0m \u001b[0;34m\u001b[0m\u001b[0m\n",
      "\u001b[0;31mKeyboardInterrupt\u001b[0m: "
     ]
    }
   ],
   "source": [
    "output = 0\n",
    "best_val_acc = test_acc = 0\n",
    "for epoch in range(1, 201):\n",
    "    A = train()\n",
    "    train_acc, val_acc, tmp_test_acc = test()[0]\n",
    "    output = test()[1]\n",
    "#    if val_acc > best_val_acc:\n",
    "#        best_val_acc = val_acc\n",
    "    test_acc = tmp_test_acc\n",
    "    log = 'Epoch: {:03d}, Train: {:.4f}, Test: {:.4f}'\n",
    "    print(log.format(epoch, train_acc, test_acc))"
   ]
  },
  {
   "cell_type": "code",
   "execution_count": null,
   "id": "three-solid",
   "metadata": {},
   "outputs": [],
   "source": [
    "epoch "
   ]
  },
  {
   "cell_type": "code",
   "execution_count": null,
   "id": "married-rabbit",
   "metadata": {},
   "outputs": [],
   "source": [
    "%debug"
   ]
  },
  {
   "cell_type": "code",
   "execution_count": 15,
   "id": "compound-blast",
   "metadata": {},
   "outputs": [
    {
     "name": "stdout",
     "output_type": "stream",
     "text": [
      "nvcc: NVIDIA (R) Cuda compiler driver\r\n",
      "Copyright (c) 2005-2019 NVIDIA Corporation\r\n",
      "Built on Sun_Jul_28_19:07:16_PDT_2019\r\n",
      "Cuda compilation tools, release 10.1, V10.1.243\r\n"
     ]
    }
   ],
   "source": [
    "!nvcc --version\n"
   ]
  },
  {
   "cell_type": "code",
   "execution_count": null,
   "id": "enabling-chapter",
   "metadata": {},
   "outputs": [],
   "source": []
  },
  {
   "cell_type": "code",
   "execution_count": null,
   "id": "hollywood-shark",
   "metadata": {},
   "outputs": [],
   "source": []
  }
 ],
 "metadata": {
  "kernelspec": {
   "display_name": "Python 3",
   "language": "python",
   "name": "python3"
  },
  "language_info": {
   "codemirror_mode": {
    "name": "ipython",
    "version": 3
   },
   "file_extension": ".py",
   "mimetype": "text/x-python",
   "name": "python",
   "nbconvert_exporter": "python",
   "pygments_lexer": "ipython3",
   "version": "3.7.8"
  }
 },
 "nbformat": 4,
 "nbformat_minor": 5
}

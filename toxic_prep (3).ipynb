{
 "cells": [
  {
   "cell_type": "code",
   "execution_count": 43,
   "metadata": {},
   "outputs": [
    {
     "name": "stderr",
     "output_type": "stream",
     "text": [
      "[nltk_data] Downloading package wordnet to\n",
      "[nltk_data]     C:\\Users\\Daria\\AppData\\Roaming\\nltk_data...\n",
      "[nltk_data]   Package wordnet is already up-to-date!\n"
     ]
    },
    {
     "data": {
      "text/plain": [
       "True"
      ]
     },
     "execution_count": 43,
     "metadata": {},
     "output_type": "execute_result"
    }
   ],
   "source": [
    "import pandas as pd\n",
    "import re\n",
    "\n",
    "from sklearn.decomposition import PCA, TruncatedSVD \n",
    "from sklearn.feature_extraction.text import TfidfVectorizer, CountVectorizer\n",
    "from sklearn.linear_model import LogisticRegression\n",
    "from sklearn.metrics import f1_score, roc_auc_score\n",
    "from sklearn.model_selection import train_test_split, GridSearchCV\n",
    "from sklearn.model_selection import StratifiedKFold\n",
    "# from sklearn.semi_supervised import LabelSpreading\n",
    "from sklearn.pipeline import Pipeline\n",
    "from sklearn.svm import SVC\n",
    "from sklearn.ensemble import RandomForestClassifier\n",
    "from sklearn.base import BaseEstimator, ClassifierMixin, RegressorMixin\n",
    "from sklearn.linear_model import LogisticRegression, LinearRegression\n",
    "from sklearn.neighbors import KNeighborsRegressor, KNeighborsClassifier\n",
    "from sklearn.naive_bayes import GaussianNB\n",
    "from sklearn.model_selection import GridSearchCV, cross_validate, StratifiedKFold\n",
    "from sklearn.preprocessing import StandardScaler\n",
    "from sklearn.ensemble import RandomForestRegressor, RandomForestClassifier, GradientBoostingClassifier, VotingClassifier\n",
    "from sklearn.svm import SVR, SVC\n",
    "from sklearn.cluster import DBSCAN\n",
    "from sklearn.metrics import jaccard_score, mean_absolute_error\n",
    "from sklearn.feature_selection import SelectFromModel\n",
    "\n",
    "from nltk.stem import PorterStemmer, WordNetLemmatizer\n",
    "from nltk.corpus import wordnet\n",
    "from nltk.corpus import stopwords\n",
    "import nltk\n",
    "from pymystem3 import Mystem\n",
    "nltk.download('wordnet')\n",
    "# from sklearn.preprocessing import StandardScaler"
   ]
  },
  {
   "cell_type": "code",
   "execution_count": 44,
   "metadata": {},
   "outputs": [],
   "source": [
    "import ssl\n",
    "try:\n",
    "    _create_unverified_https_context = ssl._create_unverified_context\n",
    "except AttributeError:\n",
    "    pass\n",
    "else:\n",
    "    ssl._create_default_https_context = _create_unverified_https_context\n"
   ]
  },
  {
   "cell_type": "code",
   "execution_count": 45,
   "metadata": {},
   "outputs": [
    {
     "name": "stderr",
     "output_type": "stream",
     "text": [
      "[nltk_data] Downloading package wordnet to\n",
      "[nltk_data]     C:\\Users\\Daria\\AppData\\Roaming\\nltk_data...\n",
      "[nltk_data]   Package wordnet is already up-to-date!\n"
     ]
    },
    {
     "data": {
      "text/plain": [
       "True"
      ]
     },
     "execution_count": 45,
     "metadata": {},
     "output_type": "execute_result"
    }
   ],
   "source": [
    "nltk.download('wordnet')"
   ]
  },
  {
   "cell_type": "code",
   "execution_count": 4,
   "metadata": {},
   "outputs": [
    {
     "name": "stdout",
     "output_type": "stream",
     "text": [
      "^C\n"
     ]
    }
   ],
   "source": [
    "!pip install deeppavlov"
   ]
  },
  {
   "cell_type": "code",
   "execution_count": null,
   "metadata": {
    "collapsed": true
   },
   "outputs": [],
   "source": [
    "!python3 -m deeppavlov install levenshtein_corrector_ru"
   ]
  },
  {
   "cell_type": "code",
   "execution_count": 15,
   "metadata": {},
   "outputs": [
    {
     "name": "stderr",
     "output_type": "stream",
     "text": [
      "2021-04-14 17:21:30.605 INFO in 'deeppavlov.download'['download'] at line 138: Skipped http://files.deeppavlov.ai/deeppavlov_data/vocabs/russian_words_vocab.dict.gz download because of matching hashes\n",
      "2021-04-14 17:21:44.601 INFO in 'deeppavlov.download'['download'] at line 138: Skipped http://files.deeppavlov.ai/lang_models/ru_wiyalen_no_punkt.arpa.binary.gz download because of matching hashes\n",
      "[nltk_data] Downloading package punkt to /Users/crafterrr/nltk_data...\n",
      "[nltk_data]   Package punkt is already up-to-date!\n",
      "[nltk_data] Downloading package stopwords to\n",
      "[nltk_data]     /Users/crafterrr/nltk_data...\n",
      "[nltk_data]   Package stopwords is already up-to-date!\n",
      "[nltk_data] Downloading package perluniprops to\n",
      "[nltk_data]     /Users/crafterrr/nltk_data...\n",
      "[nltk_data]   Package perluniprops is already up-to-date!\n",
      "[nltk_data] Downloading package nonbreaking_prefixes to\n",
      "[nltk_data]     /Users/crafterrr/nltk_data...\n",
      "[nltk_data]   Package nonbreaking_prefixes is already up-to-date!\n",
      "2021-04-14 17:21:45.108 INFO in 'deeppavlov.core.data.simple_vocab'['simple_vocab'] at line 115: [loading vocabulary from /Users/crafterrr/.deeppavlov/downloads/vocabs/russian_words_vocab.dict]\n"
     ]
    }
   ],
   "source": [
    "from deeppavlov import build_model, configs\n",
    "\n",
    "CONFIG_PATH = configs.spelling_correction.levenshtein_corrector_ru\n",
    "\n",
    "spellcheck_model = build_model(CONFIG_PATH, download=True)"
   ]
  },
  {
   "cell_type": "code",
   "execution_count": 11,
   "metadata": {},
   "outputs": [
    {
     "name": "stdout",
     "output_type": "stream",
     "text": [
      "Collecting fastDamerauLevenshtein\n",
      "  Downloading https://files.pythonhosted.org/packages/42/37/1d3f799161bdc4aebea549f3d782f55107e1d9988c60ed85a30618782d0c/fastDamerauLevenshtein-1.0.7.tar.gz\n",
      "Building wheels for collected packages: fastDamerauLevenshtein\n",
      "  Building wheel for fastDamerauLevenshtein (setup.py) ... \u001b[?25ldone\n",
      "\u001b[?25h  Stored in directory: /Users/crafterrr/Library/Caches/pip/wheels/4b/fd/b6/a9d6af68760233825060daf7f212dcaa8bf0b7429daab28477\n",
      "Successfully built fastDamerauLevenshtein\n",
      "Installing collected packages: fastDamerauLevenshtein\n",
      "Successfully installed fastDamerauLevenshtein-1.0.7\n",
      "\u001b[33mYou are using pip version 19.0.3, however version 21.0.1 is available.\n",
      "You should consider upgrading via the 'pip install --upgrade pip' command.\u001b[0m\n"
     ]
    }
   ],
   "source": [
    "!pip install fastDamerauLevenshtein"
   ]
  },
  {
   "cell_type": "code",
   "execution_count": 5,
   "metadata": {},
   "outputs": [
    {
     "ename": "ModuleNotFoundError",
     "evalue": "No module named 'fastDamerauLevenshtein'",
     "output_type": "error",
     "traceback": [
      "\u001b[1;31m---------------------------------------------------------------------------\u001b[0m",
      "\u001b[1;31mModuleNotFoundError\u001b[0m                       Traceback (most recent call last)",
      "\u001b[1;32m<ipython-input-5-95751401e7c6>\u001b[0m in \u001b[0;36m<module>\u001b[1;34m\u001b[0m\n\u001b[1;32m----> 1\u001b[1;33m \u001b[1;32mfrom\u001b[0m \u001b[0mfastDamerauLevenshtein\u001b[0m \u001b[1;32mimport\u001b[0m \u001b[0mdamerauLevenshtein\u001b[0m\u001b[1;33m\u001b[0m\u001b[1;33m\u001b[0m\u001b[0m\n\u001b[0m",
      "\u001b[1;31mModuleNotFoundError\u001b[0m: No module named 'fastDamerauLevenshtein'"
     ]
    },
    {
     "name": "stdout",
     "output_type": "stream",
     "text": [
      "Collecting deeppavlov\n",
      "  Using cached deeppavlov-0.14.1-py3-none-any.whl (988 kB)\n",
      "Collecting overrides==2.7.0\n",
      "  Using cached overrides-2.7.0.tar.gz (4.5 kB)\n",
      "Collecting uvloop==0.14.0\n",
      "  Using cached uvloop-0.14.0.tar.gz (2.0 MB)\n"
     ]
    },
    {
     "name": "stderr",
     "output_type": "stream",
     "text": [
      "    ERROR: Command errored out with exit status 1:\n",
      "     command: 'C:\\ProgramData\\Anaconda3\\python.exe' -c 'import sys, setuptools, tokenize; sys.argv[0] = '\"'\"'C:\\\\Users\\\\Daria\\\\AppData\\\\Local\\\\Temp\\\\pip-install-4mpk1umh\\\\uvloop\\\\setup.py'\"'\"'; __file__='\"'\"'C:\\\\Users\\\\Daria\\\\AppData\\\\Local\\\\Temp\\\\pip-install-4mpk1umh\\\\uvloop\\\\setup.py'\"'\"';f=getattr(tokenize, '\"'\"'open'\"'\"', open)(__file__);code=f.read().replace('\"'\"'\\r\\n'\"'\"', '\"'\"'\\n'\"'\"');f.close();exec(compile(code, __file__, '\"'\"'exec'\"'\"'))' egg_info --egg-base 'C:\\Users\\Daria\\AppData\\Local\\Temp\\pip-pip-egg-info-ni_gv4tb'\n",
      "         cwd: C:\\Users\\Daria\\AppData\\Local\\Temp\\pip-install-4mpk1umh\\uvloop\\\n",
      "    Complete output (5 lines):\n",
      "    Traceback (most recent call last):\n",
      "      File \"<string>\", line 1, in <module>\n",
      "      File \"C:\\Users\\Daria\\AppData\\Local\\Temp\\pip-install-4mpk1umh\\uvloop\\setup.py\", line 15, in <module>\n",
      "        raise RuntimeError('uvloop does not support Windows at the moment')\n",
      "    RuntimeError: uvloop does not support Windows at the moment\n",
      "    ----------------------------------------\n",
      "ERROR: Command errored out with exit status 1: python setup.py egg_info Check the logs for full command output.\n"
     ]
    }
   ],
   "source": [
    "from fastDamerauLevenshtein import damerauLevenshtein"
   ]
  },
  {
   "cell_type": "code",
   "execution_count": 6,
   "metadata": {
    "collapsed": true
   },
   "outputs": [],
   "source": [
    "# pulse = pd.read_csv(\"original_dataset_mk1.csv\")"
   ]
  },
  {
   "cell_type": "code",
   "execution_count": 7,
   "metadata": {},
   "outputs": [
    {
     "ename": "NameError",
     "evalue": "name 'pulse' is not defined",
     "output_type": "error",
     "traceback": [
      "\u001b[0;31m---------------------------------------------------------------------------\u001b[0m",
      "\u001b[0;31mNameError\u001b[0m                                 Traceback (most recent call last)",
      "\u001b[0;32m<ipython-input-7-5d4ff171536e>\u001b[0m in \u001b[0;36m<module>\u001b[0;34m()\u001b[0m\n\u001b[0;32m----> 1\u001b[0;31m \u001b[0mpulse\u001b[0m\u001b[0;34m\u001b[0m\u001b[0m\n\u001b[0m",
      "\u001b[0;31mNameError\u001b[0m: name 'pulse' is not defined"
     ]
    }
   ],
   "source": [
    "pulse"
   ]
  },
  {
   "cell_type": "code",
   "execution_count": 46,
   "metadata": {},
   "outputs": [
    {
     "data": {
      "text/html": [
       "<div>\n",
       "<style scoped>\n",
       "    .dataframe tbody tr th:only-of-type {\n",
       "        vertical-align: middle;\n",
       "    }\n",
       "\n",
       "    .dataframe tbody tr th {\n",
       "        vertical-align: top;\n",
       "    }\n",
       "\n",
       "    .dataframe thead th {\n",
       "        text-align: right;\n",
       "    }\n",
       "</style>\n",
       "<table border=\"1\" class=\"dataframe\">\n",
       "  <thead>\n",
       "    <tr style=\"text-align: right;\">\n",
       "      <th></th>\n",
       "      <th>Unnamed: 0</th>\n",
       "      <th>text</th>\n",
       "      <th>y</th>\n",
       "      <th>label</th>\n",
       "      <th>message</th>\n",
       "    </tr>\n",
       "  </thead>\n",
       "  <tbody>\n",
       "    <tr>\n",
       "      <th>0</th>\n",
       "      <td>0</td>\n",
       "      <td>Пиздабол ещё тот</td>\n",
       "      <td>1</td>\n",
       "      <td>1</td>\n",
       "      <td>Пиздабол ещё тот</td>\n",
       "    </tr>\n",
       "    <tr>\n",
       "      <th>1</th>\n",
       "      <td>1</td>\n",
       "      <td>Заколебали кукарекать, скоро весь пульс будет ...</td>\n",
       "      <td>1</td>\n",
       "      <td>1</td>\n",
       "      <td>Заколебали кукарекать, скоро весь пульс будет ...</td>\n",
       "    </tr>\n",
       "    <tr>\n",
       "      <th>2</th>\n",
       "      <td>2</td>\n",
       "      <td>На деле собака сутулая</td>\n",
       "      <td>1</td>\n",
       "      <td>1</td>\n",
       "      <td>На деле собака сутулая</td>\n",
       "    </tr>\n",
       "    <tr>\n",
       "      <th>3</th>\n",
       "      <td>3</td>\n",
       "      <td>Пшнх от сюда тварь</td>\n",
       "      <td>1</td>\n",
       "      <td>1</td>\n",
       "      <td>Пшнх от сюда тварь</td>\n",
       "    </tr>\n",
       "    <tr>\n",
       "      <th>4</th>\n",
       "      <td>4</td>\n",
       "      <td>плати за мое молчание клоп , сутки молчу 200 б...</td>\n",
       "      <td>1</td>\n",
       "      <td>1</td>\n",
       "      <td>плати за мое молчание клоп , сутки молчу 200 б...</td>\n",
       "    </tr>\n",
       "    <tr>\n",
       "      <th>...</th>\n",
       "      <td>...</td>\n",
       "      <td>...</td>\n",
       "      <td>...</td>\n",
       "      <td>...</td>\n",
       "      <td>...</td>\n",
       "    </tr>\n",
       "    <tr>\n",
       "      <th>34602</th>\n",
       "      <td>34602</td>\n",
       "      <td>Тут не то, что ТА не работает, здравый смысл о...</td>\n",
       "      <td>0</td>\n",
       "      <td>0</td>\n",
       "      <td>Тут не то, что ТА не работает, здравый смысл о...</td>\n",
       "    </tr>\n",
       "    <tr>\n",
       "      <th>34603</th>\n",
       "      <td>34603</td>\n",
       "      <td>Я тоже в бакс по 30 верил\\nКогда он уже 50 сто...</td>\n",
       "      <td>0</td>\n",
       "      <td>0</td>\n",
       "      <td>Я тоже в бакс по 30 верил\\nКогда он уже 50 сто...</td>\n",
       "    </tr>\n",
       "    <tr>\n",
       "      <th>34604</th>\n",
       "      <td>34604</td>\n",
       "      <td>Ахаха, тока щас заметил что за это гавно комис...</td>\n",
       "      <td>0</td>\n",
       "      <td>0</td>\n",
       "      <td>Ахаха, тока щас заметил что за это гавно комис...</td>\n",
       "    </tr>\n",
       "    <tr>\n",
       "      <th>34605</th>\n",
       "      <td>34605</td>\n",
       "      <td>Я с Теслой месяц мучился с плечом , в итоге вс...</td>\n",
       "      <td>0</td>\n",
       "      <td>0</td>\n",
       "      <td>Я с Теслой месяц мучился с плечом , в итоге вс...</td>\n",
       "    </tr>\n",
       "    <tr>\n",
       "      <th>34606</th>\n",
       "      <td>34606</td>\n",
       "      <td>Если одна бумага и она одна в маржу, то это ме...</td>\n",
       "      <td>0</td>\n",
       "      <td>0</td>\n",
       "      <td>Если одна бумага и она одна в маржу, то это ме...</td>\n",
       "    </tr>\n",
       "  </tbody>\n",
       "</table>\n",
       "<p>34607 rows × 5 columns</p>\n",
       "</div>"
      ],
      "text/plain": [
       "       Unnamed: 0                                               text  y  \\\n",
       "0               0                                   Пиздабол ещё тот  1   \n",
       "1               1  Заколебали кукарекать, скоро весь пульс будет ...  1   \n",
       "2               2                             На деле собака сутулая  1   \n",
       "3               3                                 Пшнх от сюда тварь  1   \n",
       "4               4  плати за мое молчание клоп , сутки молчу 200 б...  1   \n",
       "...           ...                                                ... ..   \n",
       "34602       34602  Тут не то, что ТА не работает, здравый смысл о...  0   \n",
       "34603       34603  Я тоже в бакс по 30 верил\\nКогда он уже 50 сто...  0   \n",
       "34604       34604  Ахаха, тока щас заметил что за это гавно комис...  0   \n",
       "34605       34605  Я с Теслой месяц мучился с плечом , в итоге вс...  0   \n",
       "34606       34606  Если одна бумага и она одна в маржу, то это ме...  0   \n",
       "\n",
       "       label                                            message  \n",
       "0          1                                   Пиздабол ещё тот  \n",
       "1          1  Заколебали кукарекать, скоро весь пульс будет ...  \n",
       "2          1                             На деле собака сутулая  \n",
       "3          1                                 Пшнх от сюда тварь  \n",
       "4          1  плати за мое молчание клоп , сутки молчу 200 б...  \n",
       "...      ...                                                ...  \n",
       "34602      0  Тут не то, что ТА не работает, здравый смысл о...  \n",
       "34603      0  Я тоже в бакс по 30 верил\\nКогда он уже 50 сто...  \n",
       "34604      0  Ахаха, тока щас заметил что за это гавно комис...  \n",
       "34605      0  Я с Теслой месяц мучился с плечом , в итоге вс...  \n",
       "34606      0  Если одна бумага и она одна в маржу, то это ме...  \n",
       "\n",
       "[34607 rows x 5 columns]"
      ]
     },
     "execution_count": 46,
     "metadata": {},
     "output_type": "execute_result"
    }
   ],
   "source": [
    "pulse = pd.read_csv(\"original_dataset_mk1.csv\")\n",
    "# pulse = pd.read_csv(\"external_dataset.csv\")\n",
    "pulse['label'] = pulse['y'].astype(int)\n",
    "pulse['message'] = pulse['text']\n",
    "pulse"
   ]
  },
  {
   "cell_type": "code",
   "execution_count": 47,
   "metadata": {
    "scrolled": false
   },
   "outputs": [],
   "source": [
    "def prepare_preproc_and_features(pulse, pulse_data=False):\n",
    "\n",
    "    mystem = Mystem()\n",
    "    \n",
    "    def remove_mentions(s: str):\n",
    "        return ' '.join(i if not i.startswith('@') else 'юзернейм' for i in s.split(' '))\n",
    "\n",
    "\n",
    "    def remove_stocks(s: str):\n",
    "        if not pulse_data:\n",
    "            return s\n",
    "        return ' '.join(i if not i.startswith('{$') else 'стокнейм' for i in s.split(' '))\n",
    "\n",
    "\n",
    "    def get_caps_feature(text):\n",
    "        upper = re.sub('[^А-Я]+', '', text)\n",
    "        return len(upper)\n",
    "\n",
    "\n",
    "    def get_actions(text):\n",
    "        return text.count('стокнейм')\n",
    "\n",
    "\n",
    "    def get_mentions(text):\n",
    "        return text.count('юзернейм')\n",
    "\n",
    "\n",
    "    def text_preprocessing(text):\n",
    "        if type(text) == str:\n",
    "            text = re.sub(re.compile('<.*?>'), '', text)\n",
    "            text = re.sub('[^A-Za-zА-Яа-я]+', ' ', text)\n",
    "            text = text.lower()\n",
    "        else: \n",
    "            text = ''\n",
    "        return text\n",
    "\n",
    "    \n",
    "#     def spellcheck_message(s):\n",
    "#         return spellcheck_model([s])[0]\n",
    "    \n",
    "#     def compare_messages(before, after):\n",
    "#         return damerauLevenshtein(before, after, similarity=True)\n",
    "\n",
    "    def lemmatizer(x):\n",
    "        return \" \".join(mystem.lemmatize(x)).strip()\n",
    "\n",
    "\n",
    "    pronomens = {\n",
    "        'pr1': ['я', 'мой', 'меня'],\n",
    "        'pr2': ['ты', 'твой', 'тебя'],\n",
    "        'pr3': ['себя'],\n",
    "        'pr4': ['мы', 'наш', 'нас'],\n",
    "        'pr5': ['вы', 'ваш', 'вас'],\n",
    "        'pr6': ['он', 'она', 'они', 'оно', 'её', 'его', 'их']\n",
    "    }\n",
    "\n",
    "    def compute_pronomens(text):\n",
    "        result = []\n",
    "        words = text.split()\n",
    "        for key in pronomens.keys():\n",
    "            pr_count = 0\n",
    "            for word in pronomens[key]:\n",
    "                pr_count += text.count(word)\n",
    "            result.append(pr_count)\n",
    "        return result\n",
    "\n",
    "\n",
    "    def count_words(text):\n",
    "        return len(text.split())\n",
    "\n",
    "    # Замена имён и акций, добавить замену ссылок и смайлов на их названия, подсчёт количества символов\n",
    "    pulse['n_words'] = pulse['message'].apply(count_words)\n",
    "    pulse['message'] = pulse['message'].apply(remove_mentions).apply(remove_stocks)\n",
    "\n",
    "    pulse['caps_lock'] = pulse['message'].apply(get_caps_feature)\n",
    "    pulse['mentions'] = pulse['message'].apply(get_mentions)\n",
    "    pulse['actions'] = pulse['message'].apply(get_actions)\n",
    "    # Добавить ссылки и смайлики\n",
    "\n",
    "    # Удаление лишних символов и вычисление длины строки\n",
    "    pulse['message'] = pulse['message'].apply(text_preprocessing)\n",
    "    pulse['length'] = pulse['message'].str.len()\n",
    "\n",
    "    \n",
    "    pulse['message_no_spellcheck'] = pulse['message']\n",
    "    # Исправление грамотности и сравнение грамотных сообщений с предыдущими\n",
    "#     if pulse_data:\n",
    "#         pulse['message'] = pulse['message'].apply(spellcheck_message)\n",
    "        \n",
    "#     pulse['message_grammar'] = pulse.apply(lambda x: compare_messages(x['message_no_spellcheck'], x['message']), axis=1)\n",
    "\n",
    "    # Леммы\n",
    "    pulse['message'] = pulse['message'].apply(lemmatizer)\n",
    "\n",
    "    # Удалить пустые\n",
    "    pulse = pulse[pulse['n_words'] != 0]\n",
    "\n",
    "    # Подсчёт местоимений\n",
    "    pr_features = pd.DataFrame(pulse['message'].apply(compute_pronomens).to_list(), columns=pronomens.keys())\n",
    "    for feature in pr_features.columns:\n",
    "        pulse[feature] = list(pr_features[feature])\n",
    "    \n",
    "    # Деление на количество слов нужных колонок\n",
    "    columns = ['mentions', 'actions', 'pr1', 'pr2', 'pr3', 'pr4', 'pr5', 'pr6', 'caps_lock']\n",
    "    for c in columns:\n",
    "        pulse[c] = pulse[c] / pulse['n_words']\n",
    "    \n",
    "    return pulse\n",
    "\n",
    "\n",
    "# processed_df = prepare_preproc_and_features(pulse, pulse_data=False)\n",
    "# pulse_processed_df = prepare_preproc_and_features(pulse, pulse_data=True)"
   ]
  },
  {
   "cell_type": "code",
   "execution_count": 50,
   "metadata": {},
   "outputs": [
    {
     "data": {
      "text/html": [
       "<div>\n",
       "<style scoped>\n",
       "    .dataframe tbody tr th:only-of-type {\n",
       "        vertical-align: middle;\n",
       "    }\n",
       "\n",
       "    .dataframe tbody tr th {\n",
       "        vertical-align: top;\n",
       "    }\n",
       "\n",
       "    .dataframe thead th {\n",
       "        text-align: right;\n",
       "    }\n",
       "</style>\n",
       "<table border=\"1\" class=\"dataframe\">\n",
       "  <thead>\n",
       "    <tr style=\"text-align: right;\">\n",
       "      <th></th>\n",
       "      <th>Unnamed: 0</th>\n",
       "      <th>Unnamed: 0.1</th>\n",
       "      <th>text</th>\n",
       "      <th>y</th>\n",
       "      <th>label</th>\n",
       "      <th>message</th>\n",
       "      <th>n_words</th>\n",
       "      <th>caps_lock</th>\n",
       "      <th>mentions</th>\n",
       "      <th>actions</th>\n",
       "      <th>length</th>\n",
       "      <th>message_no_spellcheck</th>\n",
       "      <th>message_grammar</th>\n",
       "      <th>pr1</th>\n",
       "      <th>pr2</th>\n",
       "      <th>pr3</th>\n",
       "      <th>pr4</th>\n",
       "      <th>pr5</th>\n",
       "      <th>pr6</th>\n",
       "    </tr>\n",
       "  </thead>\n",
       "  <tbody>\n",
       "    <tr>\n",
       "      <th>0</th>\n",
       "      <td>0</td>\n",
       "      <td>0</td>\n",
       "      <td>Пиздабол ещё тот</td>\n",
       "      <td>1</td>\n",
       "      <td>1</td>\n",
       "      <td>пиздабол   еще   тот</td>\n",
       "      <td>3</td>\n",
       "      <td>0.333333</td>\n",
       "      <td>0.0</td>\n",
       "      <td>0.0</td>\n",
       "      <td>15</td>\n",
       "      <td>пиздабол ещ тот</td>\n",
       "      <td>0.937500</td>\n",
       "      <td>0.000000</td>\n",
       "      <td>0.0</td>\n",
       "      <td>0.0</td>\n",
       "      <td>0.000000</td>\n",
       "      <td>0.000000</td>\n",
       "      <td>0.000000</td>\n",
       "    </tr>\n",
       "    <tr>\n",
       "      <th>1</th>\n",
       "      <td>1</td>\n",
       "      <td>1</td>\n",
       "      <td>Заколебали кукарекать, скоро весь пульс будет ...</td>\n",
       "      <td>1</td>\n",
       "      <td>1</td>\n",
       "      <td>заколебать   кукарекать   скоро   весь   пульс...</td>\n",
       "      <td>9</td>\n",
       "      <td>0.111111</td>\n",
       "      <td>0.0</td>\n",
       "      <td>0.0</td>\n",
       "      <td>67</td>\n",
       "      <td>заколебали кукарекать скоро весь пульс будет э...</td>\n",
       "      <td>0.985075</td>\n",
       "      <td>0.000000</td>\n",
       "      <td>0.0</td>\n",
       "      <td>0.0</td>\n",
       "      <td>0.000000</td>\n",
       "      <td>0.000000</td>\n",
       "      <td>0.000000</td>\n",
       "    </tr>\n",
       "    <tr>\n",
       "      <th>2</th>\n",
       "      <td>2</td>\n",
       "      <td>2</td>\n",
       "      <td>На деле собака сутулая</td>\n",
       "      <td>1</td>\n",
       "      <td>1</td>\n",
       "      <td>на   дело   собака   сутулый</td>\n",
       "      <td>4</td>\n",
       "      <td>0.250000</td>\n",
       "      <td>0.0</td>\n",
       "      <td>0.0</td>\n",
       "      <td>22</td>\n",
       "      <td>на деле собака сутулая</td>\n",
       "      <td>1.000000</td>\n",
       "      <td>0.000000</td>\n",
       "      <td>0.0</td>\n",
       "      <td>0.0</td>\n",
       "      <td>0.000000</td>\n",
       "      <td>0.000000</td>\n",
       "      <td>0.000000</td>\n",
       "    </tr>\n",
       "    <tr>\n",
       "      <th>3</th>\n",
       "      <td>3</td>\n",
       "      <td>3</td>\n",
       "      <td>Пшнх от сюда тварь</td>\n",
       "      <td>1</td>\n",
       "      <td>1</td>\n",
       "      <td>пшнх   от   сюда   тварь</td>\n",
       "      <td>4</td>\n",
       "      <td>0.250000</td>\n",
       "      <td>0.0</td>\n",
       "      <td>0.0</td>\n",
       "      <td>18</td>\n",
       "      <td>пшнх от сюда тварь</td>\n",
       "      <td>1.000000</td>\n",
       "      <td>0.000000</td>\n",
       "      <td>0.0</td>\n",
       "      <td>0.0</td>\n",
       "      <td>0.000000</td>\n",
       "      <td>0.000000</td>\n",
       "      <td>0.000000</td>\n",
       "    </tr>\n",
       "    <tr>\n",
       "      <th>4</th>\n",
       "      <td>4</td>\n",
       "      <td>4</td>\n",
       "      <td>плати за мое молчание клоп , сутки молчу 200 б...</td>\n",
       "      <td>1</td>\n",
       "      <td>1</td>\n",
       "      <td>платить   за   мой   молчание   клоп   сутки  ...</td>\n",
       "      <td>10</td>\n",
       "      <td>0.000000</td>\n",
       "      <td>0.0</td>\n",
       "      <td>0.0</td>\n",
       "      <td>45</td>\n",
       "      <td>плати за мое молчание клоп сутки молчу баксов</td>\n",
       "      <td>1.000000</td>\n",
       "      <td>0.100000</td>\n",
       "      <td>0.0</td>\n",
       "      <td>0.0</td>\n",
       "      <td>0.000000</td>\n",
       "      <td>0.000000</td>\n",
       "      <td>0.000000</td>\n",
       "    </tr>\n",
       "    <tr>\n",
       "      <th>...</th>\n",
       "      <td>...</td>\n",
       "      <td>...</td>\n",
       "      <td>...</td>\n",
       "      <td>...</td>\n",
       "      <td>...</td>\n",
       "      <td>...</td>\n",
       "      <td>...</td>\n",
       "      <td>...</td>\n",
       "      <td>...</td>\n",
       "      <td>...</td>\n",
       "      <td>...</td>\n",
       "      <td>...</td>\n",
       "      <td>...</td>\n",
       "      <td>...</td>\n",
       "      <td>...</td>\n",
       "      <td>...</td>\n",
       "      <td>...</td>\n",
       "      <td>...</td>\n",
       "      <td>...</td>\n",
       "    </tr>\n",
       "    <tr>\n",
       "      <th>34602</th>\n",
       "      <td>34602</td>\n",
       "      <td>34602</td>\n",
       "      <td>Тут не то, что ТА не работает, здравый смысл о...</td>\n",
       "      <td>0</td>\n",
       "      <td>0</td>\n",
       "      <td>тут   не   то   что   тот   не   работать   зд...</td>\n",
       "      <td>10</td>\n",
       "      <td>0.300000</td>\n",
       "      <td>0.0</td>\n",
       "      <td>0.0</td>\n",
       "      <td>54</td>\n",
       "      <td>тут не то что та не работает здравый смысл отс...</td>\n",
       "      <td>1.000000</td>\n",
       "      <td>0.000000</td>\n",
       "      <td>0.0</td>\n",
       "      <td>0.0</td>\n",
       "      <td>0.100000</td>\n",
       "      <td>0.100000</td>\n",
       "      <td>0.000000</td>\n",
       "    </tr>\n",
       "    <tr>\n",
       "      <th>34603</th>\n",
       "      <td>34603</td>\n",
       "      <td>34603</td>\n",
       "      <td>Я тоже в бакс по 30 верил\\nКогда он уже 50 сто...</td>\n",
       "      <td>0</td>\n",
       "      <td>0</td>\n",
       "      <td>я   тоже   в   бак   по   верить   когда   он ...</td>\n",
       "      <td>12</td>\n",
       "      <td>0.166667</td>\n",
       "      <td>0.0</td>\n",
       "      <td>0.0</td>\n",
       "      <td>42</td>\n",
       "      <td>я тоже в бакс по верил когда он уже стоил</td>\n",
       "      <td>0.952381</td>\n",
       "      <td>0.083333</td>\n",
       "      <td>0.0</td>\n",
       "      <td>0.0</td>\n",
       "      <td>0.000000</td>\n",
       "      <td>0.000000</td>\n",
       "      <td>0.083333</td>\n",
       "    </tr>\n",
       "    <tr>\n",
       "      <th>34604</th>\n",
       "      <td>34604</td>\n",
       "      <td>34604</td>\n",
       "      <td>Ахаха, тока щас заметил что за это гавно комис...</td>\n",
       "      <td>0</td>\n",
       "      <td>0</td>\n",
       "      <td>ахах   ток   мы   замечать   что   за   это   ...</td>\n",
       "      <td>18</td>\n",
       "      <td>0.222222</td>\n",
       "      <td>0.0</td>\n",
       "      <td>0.0</td>\n",
       "      <td>109</td>\n",
       "      <td>ахаха тока щас заметил что за это гавно комисс...</td>\n",
       "      <td>0.972727</td>\n",
       "      <td>0.055556</td>\n",
       "      <td>0.0</td>\n",
       "      <td>0.0</td>\n",
       "      <td>0.055556</td>\n",
       "      <td>0.000000</td>\n",
       "      <td>0.055556</td>\n",
       "    </tr>\n",
       "    <tr>\n",
       "      <th>34605</th>\n",
       "      <td>34605</td>\n",
       "      <td>34605</td>\n",
       "      <td>Я с Теслой месяц мучился с плечом , в итоге вс...</td>\n",
       "      <td>0</td>\n",
       "      <td>0</td>\n",
       "      <td>я   с   теплый   месяц   мучиться   с   плечо ...</td>\n",
       "      <td>21</td>\n",
       "      <td>0.095238</td>\n",
       "      <td>0.0</td>\n",
       "      <td>0.0</td>\n",
       "      <td>102</td>\n",
       "      <td>я с теслой месяц мучился с плечом в итоге все ...</td>\n",
       "      <td>0.990196</td>\n",
       "      <td>0.190476</td>\n",
       "      <td>0.0</td>\n",
       "      <td>0.0</td>\n",
       "      <td>0.000000</td>\n",
       "      <td>0.047619</td>\n",
       "      <td>0.000000</td>\n",
       "    </tr>\n",
       "    <tr>\n",
       "      <th>34606</th>\n",
       "      <td>34606</td>\n",
       "      <td>34606</td>\n",
       "      <td>Если одна бумага и она одна в маржу, то это ме...</td>\n",
       "      <td>0</td>\n",
       "      <td>0</td>\n",
       "      <td>если   один   бумага   и   она   один   в   ма...</td>\n",
       "      <td>32</td>\n",
       "      <td>0.062500</td>\n",
       "      <td>0.0</td>\n",
       "      <td>0.0</td>\n",
       "      <td>158</td>\n",
       "      <td>если одна бумага и она одна в маржу то это мен...</td>\n",
       "      <td>1.000000</td>\n",
       "      <td>0.156250</td>\n",
       "      <td>0.0</td>\n",
       "      <td>0.0</td>\n",
       "      <td>0.000000</td>\n",
       "      <td>0.000000</td>\n",
       "      <td>0.062500</td>\n",
       "    </tr>\n",
       "  </tbody>\n",
       "</table>\n",
       "<p>34605 rows × 19 columns</p>\n",
       "</div>"
      ],
      "text/plain": [
       "       Unnamed: 0  Unnamed: 0.1  \\\n",
       "0               0             0   \n",
       "1               1             1   \n",
       "2               2             2   \n",
       "3               3             3   \n",
       "4               4             4   \n",
       "...           ...           ...   \n",
       "34602       34602         34602   \n",
       "34603       34603         34603   \n",
       "34604       34604         34604   \n",
       "34605       34605         34605   \n",
       "34606       34606         34606   \n",
       "\n",
       "                                                    text  y  label  \\\n",
       "0                                       Пиздабол ещё тот  1      1   \n",
       "1      Заколебали кукарекать, скоро весь пульс будет ...  1      1   \n",
       "2                                 На деле собака сутулая  1      1   \n",
       "3                                     Пшнх от сюда тварь  1      1   \n",
       "4      плати за мое молчание клоп , сутки молчу 200 б...  1      1   \n",
       "...                                                  ... ..    ...   \n",
       "34602  Тут не то, что ТА не работает, здравый смысл о...  0      0   \n",
       "34603  Я тоже в бакс по 30 верил\\nКогда он уже 50 сто...  0      0   \n",
       "34604  Ахаха, тока щас заметил что за это гавно комис...  0      0   \n",
       "34605  Я с Теслой месяц мучился с плечом , в итоге вс...  0      0   \n",
       "34606  Если одна бумага и она одна в маржу, то это ме...  0      0   \n",
       "\n",
       "                                                 message  n_words  caps_lock  \\\n",
       "0                                   пиздабол   еще   тот        3   0.333333   \n",
       "1      заколебать   кукарекать   скоро   весь   пульс...        9   0.111111   \n",
       "2                           на   дело   собака   сутулый        4   0.250000   \n",
       "3                               пшнх   от   сюда   тварь        4   0.250000   \n",
       "4      платить   за   мой   молчание   клоп   сутки  ...       10   0.000000   \n",
       "...                                                  ...      ...        ...   \n",
       "34602  тут   не   то   что   тот   не   работать   зд...       10   0.300000   \n",
       "34603  я   тоже   в   бак   по   верить   когда   он ...       12   0.166667   \n",
       "34604  ахах   ток   мы   замечать   что   за   это   ...       18   0.222222   \n",
       "34605  я   с   теплый   месяц   мучиться   с   плечо ...       21   0.095238   \n",
       "34606  если   один   бумага   и   она   один   в   ма...       32   0.062500   \n",
       "\n",
       "       mentions  actions  length  \\\n",
       "0           0.0      0.0      15   \n",
       "1           0.0      0.0      67   \n",
       "2           0.0      0.0      22   \n",
       "3           0.0      0.0      18   \n",
       "4           0.0      0.0      45   \n",
       "...         ...      ...     ...   \n",
       "34602       0.0      0.0      54   \n",
       "34603       0.0      0.0      42   \n",
       "34604       0.0      0.0     109   \n",
       "34605       0.0      0.0     102   \n",
       "34606       0.0      0.0     158   \n",
       "\n",
       "                                   message_no_spellcheck  message_grammar  \\\n",
       "0                                        пиздабол ещ тот         0.937500   \n",
       "1      заколебали кукарекать скоро весь пульс будет э...         0.985075   \n",
       "2                                 на деле собака сутулая         1.000000   \n",
       "3                                     пшнх от сюда тварь         1.000000   \n",
       "4          плати за мое молчание клоп сутки молчу баксов         1.000000   \n",
       "...                                                  ...              ...   \n",
       "34602  тут не то что та не работает здравый смысл отс...         1.000000   \n",
       "34603         я тоже в бакс по верил когда он уже стоил          0.952381   \n",
       "34604  ахаха тока щас заметил что за это гавно комисс...         0.972727   \n",
       "34605  я с теслой месяц мучился с плечом в итоге все ...         0.990196   \n",
       "34606  если одна бумага и она одна в маржу то это мен...         1.000000   \n",
       "\n",
       "            pr1  pr2  pr3       pr4       pr5       pr6  \n",
       "0      0.000000  0.0  0.0  0.000000  0.000000  0.000000  \n",
       "1      0.000000  0.0  0.0  0.000000  0.000000  0.000000  \n",
       "2      0.000000  0.0  0.0  0.000000  0.000000  0.000000  \n",
       "3      0.000000  0.0  0.0  0.000000  0.000000  0.000000  \n",
       "4      0.100000  0.0  0.0  0.000000  0.000000  0.000000  \n",
       "...         ...  ...  ...       ...       ...       ...  \n",
       "34602  0.000000  0.0  0.0  0.100000  0.100000  0.000000  \n",
       "34603  0.083333  0.0  0.0  0.000000  0.000000  0.083333  \n",
       "34604  0.055556  0.0  0.0  0.055556  0.000000  0.055556  \n",
       "34605  0.190476  0.0  0.0  0.000000  0.047619  0.000000  \n",
       "34606  0.156250  0.0  0.0  0.000000  0.000000  0.062500  \n",
       "\n",
       "[34605 rows x 19 columns]"
      ]
     },
     "execution_count": 50,
     "metadata": {},
     "output_type": "execute_result"
    }
   ],
   "source": [
    "pulse_processed_df"
   ]
  },
  {
   "cell_type": "code",
   "execution_count": 49,
   "metadata": {},
   "outputs": [],
   "source": [
    "pulse_processed_df.to_csv('pulse_processed.csv')"
   ]
  },
  {
   "cell_type": "code",
   "execution_count": 9,
   "metadata": {
    "collapsed": true
   },
   "outputs": [],
   "source": [
    "processed_df[['message', 'label']].to_csv('processed_external_new.csv')"
   ]
  },
  {
   "cell_type": "markdown",
   "metadata": {},
   "source": [
    "1. Построить простую модель\n",
    "2. Попробовать прероцессинг\n",
    "3. Поправить орфографию\n",
    "4. Попробовать лемматизацию"
   ]
  },
  {
   "cell_type": "code",
   "execution_count": 8,
   "metadata": {},
   "outputs": [],
   "source": [
    "pulse_processed_df = pd.read_csv(\"pulse_processed.csv\")"
   ]
  },
  {
   "cell_type": "code",
   "execution_count": 9,
   "metadata": {},
   "outputs": [],
   "source": [
    "pulse_processed_df = pulse_processed_df.dropna()"
   ]
  },
  {
   "cell_type": "code",
   "execution_count": 10,
   "metadata": {},
   "outputs": [],
   "source": [
    "def test_model(model, X, y, k=5):\n",
    "    skf = StratifiedKFold(n_splits=k, shuffle=True)\n",
    "    score = []\n",
    "    roc_auc = []\n",
    "    train_score = []\n",
    "    train_roc_auc = []\n",
    "    for train_index, test_index in skf.split(X, y):\n",
    "        X_train, X_test = X[train_index], X[test_index]\n",
    "        y_train, y_test = y[train_index], y[test_index]\n",
    "        model.fit(X_train, y_train)\n",
    "        preds = model.predict(X_test)\n",
    "        train_preds = model.predict(X_train)\n",
    "        score.append(f1_score(y_test, preds))\n",
    "        roc_auc.append(roc_auc_score(y_test, preds))\n",
    "        train_score.append(f1_score(y_train, train_preds))\n",
    "        train_roc_auc.append(roc_auc_score(y_train, train_preds))\n",
    "        \n",
    "    return score, roc_auc, train_score, train_roc_auc"
   ]
  },
  {
   "cell_type": "code",
   "execution_count": 11,
   "metadata": {},
   "outputs": [],
   "source": [
    "df = pulse_processed_df"
   ]
  },
  {
   "cell_type": "code",
   "execution_count": 12,
   "metadata": {},
   "outputs": [],
   "source": [
    "import numpy as np"
   ]
  },
  {
   "cell_type": "code",
   "execution_count": 22,
   "metadata": {},
   "outputs": [],
   "source": [
    "def prepare_data(d, vectorizer):\n",
    "    msg = vectorizer.fit_transform(d['message']).toarray()\n",
    "    df_features = df.copy()\n",
    "    df_features = df_features[['n_words', 'caps_lock', 'mentions', 'actions', 'length', 'pr1', 'pr2', 'pr3', 'pr4', 'pr5', 'pr6']]\n",
    "    # 'message_grammar', \n",
    "    for i in range(msg.shape[1]):\n",
    "        df_features['msg' + str(i)] = msg[:, i]\n",
    "#     df_features = df_features.astype(float)\n",
    "    return df_features"
   ]
  },
  {
   "cell_type": "code",
   "execution_count": 51,
   "metadata": {},
   "outputs": [
    {
     "data": {
      "text/html": [
       "<div>\n",
       "<style scoped>\n",
       "    .dataframe tbody tr th:only-of-type {\n",
       "        vertical-align: middle;\n",
       "    }\n",
       "\n",
       "    .dataframe tbody tr th {\n",
       "        vertical-align: top;\n",
       "    }\n",
       "\n",
       "    .dataframe thead th {\n",
       "        text-align: right;\n",
       "    }\n",
       "</style>\n",
       "<table border=\"1\" class=\"dataframe\">\n",
       "  <thead>\n",
       "    <tr style=\"text-align: right;\">\n",
       "      <th></th>\n",
       "      <th>Unnamed: 0</th>\n",
       "      <th>Unnamed: 0.1</th>\n",
       "      <th>text</th>\n",
       "      <th>y</th>\n",
       "      <th>label</th>\n",
       "      <th>message</th>\n",
       "      <th>n_words</th>\n",
       "      <th>caps_lock</th>\n",
       "      <th>mentions</th>\n",
       "      <th>actions</th>\n",
       "      <th>length</th>\n",
       "      <th>message_no_spellcheck</th>\n",
       "      <th>message_grammar</th>\n",
       "      <th>pr1</th>\n",
       "      <th>pr2</th>\n",
       "      <th>pr3</th>\n",
       "      <th>pr4</th>\n",
       "      <th>pr5</th>\n",
       "      <th>pr6</th>\n",
       "    </tr>\n",
       "  </thead>\n",
       "  <tbody>\n",
       "    <tr>\n",
       "      <th>0</th>\n",
       "      <td>0</td>\n",
       "      <td>0</td>\n",
       "      <td>Пиздабол ещё тот</td>\n",
       "      <td>1</td>\n",
       "      <td>1</td>\n",
       "      <td>пиздабол   еще   тот</td>\n",
       "      <td>3</td>\n",
       "      <td>0.333333</td>\n",
       "      <td>0.0</td>\n",
       "      <td>0.0</td>\n",
       "      <td>15</td>\n",
       "      <td>пиздабол ещ тот</td>\n",
       "      <td>0.937500</td>\n",
       "      <td>0.000000</td>\n",
       "      <td>0.0</td>\n",
       "      <td>0.0</td>\n",
       "      <td>0.000000</td>\n",
       "      <td>0.000000</td>\n",
       "      <td>0.000000</td>\n",
       "    </tr>\n",
       "    <tr>\n",
       "      <th>1</th>\n",
       "      <td>1</td>\n",
       "      <td>1</td>\n",
       "      <td>Заколебали кукарекать, скоро весь пульс будет ...</td>\n",
       "      <td>1</td>\n",
       "      <td>1</td>\n",
       "      <td>заколебать   кукарекать   скоро   весь   пульс...</td>\n",
       "      <td>9</td>\n",
       "      <td>0.111111</td>\n",
       "      <td>0.0</td>\n",
       "      <td>0.0</td>\n",
       "      <td>67</td>\n",
       "      <td>заколебали кукарекать скоро весь пульс будет э...</td>\n",
       "      <td>0.985075</td>\n",
       "      <td>0.000000</td>\n",
       "      <td>0.0</td>\n",
       "      <td>0.0</td>\n",
       "      <td>0.000000</td>\n",
       "      <td>0.000000</td>\n",
       "      <td>0.000000</td>\n",
       "    </tr>\n",
       "    <tr>\n",
       "      <th>2</th>\n",
       "      <td>2</td>\n",
       "      <td>2</td>\n",
       "      <td>На деле собака сутулая</td>\n",
       "      <td>1</td>\n",
       "      <td>1</td>\n",
       "      <td>на   дело   собака   сутулый</td>\n",
       "      <td>4</td>\n",
       "      <td>0.250000</td>\n",
       "      <td>0.0</td>\n",
       "      <td>0.0</td>\n",
       "      <td>22</td>\n",
       "      <td>на деле собака сутулая</td>\n",
       "      <td>1.000000</td>\n",
       "      <td>0.000000</td>\n",
       "      <td>0.0</td>\n",
       "      <td>0.0</td>\n",
       "      <td>0.000000</td>\n",
       "      <td>0.000000</td>\n",
       "      <td>0.000000</td>\n",
       "    </tr>\n",
       "    <tr>\n",
       "      <th>3</th>\n",
       "      <td>3</td>\n",
       "      <td>3</td>\n",
       "      <td>Пшнх от сюда тварь</td>\n",
       "      <td>1</td>\n",
       "      <td>1</td>\n",
       "      <td>пшнх   от   сюда   тварь</td>\n",
       "      <td>4</td>\n",
       "      <td>0.250000</td>\n",
       "      <td>0.0</td>\n",
       "      <td>0.0</td>\n",
       "      <td>18</td>\n",
       "      <td>пшнх от сюда тварь</td>\n",
       "      <td>1.000000</td>\n",
       "      <td>0.000000</td>\n",
       "      <td>0.0</td>\n",
       "      <td>0.0</td>\n",
       "      <td>0.000000</td>\n",
       "      <td>0.000000</td>\n",
       "      <td>0.000000</td>\n",
       "    </tr>\n",
       "    <tr>\n",
       "      <th>4</th>\n",
       "      <td>4</td>\n",
       "      <td>4</td>\n",
       "      <td>плати за мое молчание клоп , сутки молчу 200 б...</td>\n",
       "      <td>1</td>\n",
       "      <td>1</td>\n",
       "      <td>платить   за   мой   молчание   клоп   сутки  ...</td>\n",
       "      <td>10</td>\n",
       "      <td>0.000000</td>\n",
       "      <td>0.0</td>\n",
       "      <td>0.0</td>\n",
       "      <td>45</td>\n",
       "      <td>плати за мое молчание клоп сутки молчу баксов</td>\n",
       "      <td>1.000000</td>\n",
       "      <td>0.100000</td>\n",
       "      <td>0.0</td>\n",
       "      <td>0.0</td>\n",
       "      <td>0.000000</td>\n",
       "      <td>0.000000</td>\n",
       "      <td>0.000000</td>\n",
       "    </tr>\n",
       "    <tr>\n",
       "      <th>...</th>\n",
       "      <td>...</td>\n",
       "      <td>...</td>\n",
       "      <td>...</td>\n",
       "      <td>...</td>\n",
       "      <td>...</td>\n",
       "      <td>...</td>\n",
       "      <td>...</td>\n",
       "      <td>...</td>\n",
       "      <td>...</td>\n",
       "      <td>...</td>\n",
       "      <td>...</td>\n",
       "      <td>...</td>\n",
       "      <td>...</td>\n",
       "      <td>...</td>\n",
       "      <td>...</td>\n",
       "      <td>...</td>\n",
       "      <td>...</td>\n",
       "      <td>...</td>\n",
       "      <td>...</td>\n",
       "    </tr>\n",
       "    <tr>\n",
       "      <th>34602</th>\n",
       "      <td>34602</td>\n",
       "      <td>34602</td>\n",
       "      <td>Тут не то, что ТА не работает, здравый смысл о...</td>\n",
       "      <td>0</td>\n",
       "      <td>0</td>\n",
       "      <td>тут   не   то   что   тот   не   работать   зд...</td>\n",
       "      <td>10</td>\n",
       "      <td>0.300000</td>\n",
       "      <td>0.0</td>\n",
       "      <td>0.0</td>\n",
       "      <td>54</td>\n",
       "      <td>тут не то что та не работает здравый смысл отс...</td>\n",
       "      <td>1.000000</td>\n",
       "      <td>0.000000</td>\n",
       "      <td>0.0</td>\n",
       "      <td>0.0</td>\n",
       "      <td>0.100000</td>\n",
       "      <td>0.100000</td>\n",
       "      <td>0.000000</td>\n",
       "    </tr>\n",
       "    <tr>\n",
       "      <th>34603</th>\n",
       "      <td>34603</td>\n",
       "      <td>34603</td>\n",
       "      <td>Я тоже в бакс по 30 верил\\nКогда он уже 50 сто...</td>\n",
       "      <td>0</td>\n",
       "      <td>0</td>\n",
       "      <td>я   тоже   в   бак   по   верить   когда   он ...</td>\n",
       "      <td>12</td>\n",
       "      <td>0.166667</td>\n",
       "      <td>0.0</td>\n",
       "      <td>0.0</td>\n",
       "      <td>42</td>\n",
       "      <td>я тоже в бакс по верил когда он уже стоил</td>\n",
       "      <td>0.952381</td>\n",
       "      <td>0.083333</td>\n",
       "      <td>0.0</td>\n",
       "      <td>0.0</td>\n",
       "      <td>0.000000</td>\n",
       "      <td>0.000000</td>\n",
       "      <td>0.083333</td>\n",
       "    </tr>\n",
       "    <tr>\n",
       "      <th>34604</th>\n",
       "      <td>34604</td>\n",
       "      <td>34604</td>\n",
       "      <td>Ахаха, тока щас заметил что за это гавно комис...</td>\n",
       "      <td>0</td>\n",
       "      <td>0</td>\n",
       "      <td>ахах   ток   мы   замечать   что   за   это   ...</td>\n",
       "      <td>18</td>\n",
       "      <td>0.222222</td>\n",
       "      <td>0.0</td>\n",
       "      <td>0.0</td>\n",
       "      <td>109</td>\n",
       "      <td>ахаха тока щас заметил что за это гавно комисс...</td>\n",
       "      <td>0.972727</td>\n",
       "      <td>0.055556</td>\n",
       "      <td>0.0</td>\n",
       "      <td>0.0</td>\n",
       "      <td>0.055556</td>\n",
       "      <td>0.000000</td>\n",
       "      <td>0.055556</td>\n",
       "    </tr>\n",
       "    <tr>\n",
       "      <th>34605</th>\n",
       "      <td>34605</td>\n",
       "      <td>34605</td>\n",
       "      <td>Я с Теслой месяц мучился с плечом , в итоге вс...</td>\n",
       "      <td>0</td>\n",
       "      <td>0</td>\n",
       "      <td>я   с   теплый   месяц   мучиться   с   плечо ...</td>\n",
       "      <td>21</td>\n",
       "      <td>0.095238</td>\n",
       "      <td>0.0</td>\n",
       "      <td>0.0</td>\n",
       "      <td>102</td>\n",
       "      <td>я с теслой месяц мучился с плечом в итоге все ...</td>\n",
       "      <td>0.990196</td>\n",
       "      <td>0.190476</td>\n",
       "      <td>0.0</td>\n",
       "      <td>0.0</td>\n",
       "      <td>0.000000</td>\n",
       "      <td>0.047619</td>\n",
       "      <td>0.000000</td>\n",
       "    </tr>\n",
       "    <tr>\n",
       "      <th>34606</th>\n",
       "      <td>34606</td>\n",
       "      <td>34606</td>\n",
       "      <td>Если одна бумага и она одна в маржу, то это ме...</td>\n",
       "      <td>0</td>\n",
       "      <td>0</td>\n",
       "      <td>если   один   бумага   и   она   один   в   ма...</td>\n",
       "      <td>32</td>\n",
       "      <td>0.062500</td>\n",
       "      <td>0.0</td>\n",
       "      <td>0.0</td>\n",
       "      <td>158</td>\n",
       "      <td>если одна бумага и она одна в маржу то это мен...</td>\n",
       "      <td>1.000000</td>\n",
       "      <td>0.156250</td>\n",
       "      <td>0.0</td>\n",
       "      <td>0.0</td>\n",
       "      <td>0.000000</td>\n",
       "      <td>0.000000</td>\n",
       "      <td>0.062500</td>\n",
       "    </tr>\n",
       "  </tbody>\n",
       "</table>\n",
       "<p>34605 rows × 19 columns</p>\n",
       "</div>"
      ],
      "text/plain": [
       "       Unnamed: 0  Unnamed: 0.1  \\\n",
       "0               0             0   \n",
       "1               1             1   \n",
       "2               2             2   \n",
       "3               3             3   \n",
       "4               4             4   \n",
       "...           ...           ...   \n",
       "34602       34602         34602   \n",
       "34603       34603         34603   \n",
       "34604       34604         34604   \n",
       "34605       34605         34605   \n",
       "34606       34606         34606   \n",
       "\n",
       "                                                    text  y  label  \\\n",
       "0                                       Пиздабол ещё тот  1      1   \n",
       "1      Заколебали кукарекать, скоро весь пульс будет ...  1      1   \n",
       "2                                 На деле собака сутулая  1      1   \n",
       "3                                     Пшнх от сюда тварь  1      1   \n",
       "4      плати за мое молчание клоп , сутки молчу 200 б...  1      1   \n",
       "...                                                  ... ..    ...   \n",
       "34602  Тут не то, что ТА не работает, здравый смысл о...  0      0   \n",
       "34603  Я тоже в бакс по 30 верил\\nКогда он уже 50 сто...  0      0   \n",
       "34604  Ахаха, тока щас заметил что за это гавно комис...  0      0   \n",
       "34605  Я с Теслой месяц мучился с плечом , в итоге вс...  0      0   \n",
       "34606  Если одна бумага и она одна в маржу, то это ме...  0      0   \n",
       "\n",
       "                                                 message  n_words  caps_lock  \\\n",
       "0                                   пиздабол   еще   тот        3   0.333333   \n",
       "1      заколебать   кукарекать   скоро   весь   пульс...        9   0.111111   \n",
       "2                           на   дело   собака   сутулый        4   0.250000   \n",
       "3                               пшнх   от   сюда   тварь        4   0.250000   \n",
       "4      платить   за   мой   молчание   клоп   сутки  ...       10   0.000000   \n",
       "...                                                  ...      ...        ...   \n",
       "34602  тут   не   то   что   тот   не   работать   зд...       10   0.300000   \n",
       "34603  я   тоже   в   бак   по   верить   когда   он ...       12   0.166667   \n",
       "34604  ахах   ток   мы   замечать   что   за   это   ...       18   0.222222   \n",
       "34605  я   с   теплый   месяц   мучиться   с   плечо ...       21   0.095238   \n",
       "34606  если   один   бумага   и   она   один   в   ма...       32   0.062500   \n",
       "\n",
       "       mentions  actions  length  \\\n",
       "0           0.0      0.0      15   \n",
       "1           0.0      0.0      67   \n",
       "2           0.0      0.0      22   \n",
       "3           0.0      0.0      18   \n",
       "4           0.0      0.0      45   \n",
       "...         ...      ...     ...   \n",
       "34602       0.0      0.0      54   \n",
       "34603       0.0      0.0      42   \n",
       "34604       0.0      0.0     109   \n",
       "34605       0.0      0.0     102   \n",
       "34606       0.0      0.0     158   \n",
       "\n",
       "                                   message_no_spellcheck  message_grammar  \\\n",
       "0                                        пиздабол ещ тот         0.937500   \n",
       "1      заколебали кукарекать скоро весь пульс будет э...         0.985075   \n",
       "2                                 на деле собака сутулая         1.000000   \n",
       "3                                     пшнх от сюда тварь         1.000000   \n",
       "4          плати за мое молчание клоп сутки молчу баксов         1.000000   \n",
       "...                                                  ...              ...   \n",
       "34602  тут не то что та не работает здравый смысл отс...         1.000000   \n",
       "34603         я тоже в бакс по верил когда он уже стоил          0.952381   \n",
       "34604  ахаха тока щас заметил что за это гавно комисс...         0.972727   \n",
       "34605  я с теслой месяц мучился с плечом в итоге все ...         0.990196   \n",
       "34606  если одна бумага и она одна в маржу то это мен...         1.000000   \n",
       "\n",
       "            pr1  pr2  pr3       pr4       pr5       pr6  \n",
       "0      0.000000  0.0  0.0  0.000000  0.000000  0.000000  \n",
       "1      0.000000  0.0  0.0  0.000000  0.000000  0.000000  \n",
       "2      0.000000  0.0  0.0  0.000000  0.000000  0.000000  \n",
       "3      0.000000  0.0  0.0  0.000000  0.000000  0.000000  \n",
       "4      0.100000  0.0  0.0  0.000000  0.000000  0.000000  \n",
       "...         ...  ...  ...       ...       ...       ...  \n",
       "34602  0.000000  0.0  0.0  0.100000  0.100000  0.000000  \n",
       "34603  0.083333  0.0  0.0  0.000000  0.000000  0.083333  \n",
       "34604  0.055556  0.0  0.0  0.055556  0.000000  0.055556  \n",
       "34605  0.190476  0.0  0.0  0.000000  0.047619  0.000000  \n",
       "34606  0.156250  0.0  0.0  0.000000  0.000000  0.062500  \n",
       "\n",
       "[34605 rows x 19 columns]"
      ]
     },
     "execution_count": 51,
     "metadata": {},
     "output_type": "execute_result"
    }
   ],
   "source": [
    "df"
   ]
  },
  {
   "cell_type": "code",
   "execution_count": 14,
   "metadata": {},
   "outputs": [],
   "source": [
    "def test_model_and_vec(model, vec, d, k=5):\n",
    "    skf = StratifiedKFold(n_splits=k, shuffle=True)\n",
    "    X = prepare_data(d, vec)\n",
    "#     print(X.head())\n",
    "    X = np.array(X)\n",
    "    \n",
    "#     print(X.shape)\n",
    "\n",
    "    y = d['label'].astype(float).values\n",
    "#     print(list(y))\n",
    "    score = []\n",
    "    roc_auc = []\n",
    "    train_score = []\n",
    "    train_roc_auc = []\n",
    "    for train_index, test_index in skf.split(X, y):\n",
    "        X_train, X_test = X[train_index], X[test_index]\n",
    "        y_train, y_test = y[train_index], y[test_index]\n",
    "        model.fit(X_train, y_train)\n",
    "        preds = model.predict(X_test)\n",
    "        train_preds = model.predict(X_train)\n",
    "        score.append(f1_score(y_test, preds))\n",
    "        roc_auc.append(roc_auc_score(y_test, preds))\n",
    "        train_score.append(f1_score(y_train, train_preds))\n",
    "        train_roc_auc.append(roc_auc_score(y_train, train_preds))\n",
    "        \n",
    "    return score, roc_auc, train_score, train_roc_auc"
   ]
  },
  {
   "cell_type": "code",
   "execution_count": 16,
   "metadata": {},
   "outputs": [],
   "source": [
    "from sklearn.ensemble import AdaBoostClassifier"
   ]
  },
  {
   "cell_type": "code",
   "execution_count": 20,
   "metadata": {},
   "outputs": [
    {
     "name": "stdout",
     "output_type": "stream",
     "text": [
      "([0.0, 0.0, 0.0, 0.0, 0.0], [0.5, 0.5, 0.5, 0.5, 0.5], [0.0, 0.0, 0.0, 0.0, 0.0], [0.5, 0.5, 0.5, 0.5, 0.5])\n",
      "([0.01652892561983471, 0.04032258064516129, 0.017021276595744678, 0.0502092050209205, 0.05907172995780591], [0.5035449353591723, 0.50984433854695, 0.5040124403343634, 0.512784370158925, 0.5152014673618156], [0.0736949846468782, 0.04943357363542739, 0.050052137643378514, 0.045081967213114756, 0.03549060542797494], [0.5191952314672832, 0.5125084675211521, 0.5127325906394516, 0.5112824387835606, 0.5087870131985932])\n",
      "([0.06531660011409014, 0.06431505879019692, 0.0660171586447579, 0.06495726495726496, 0.06491103202846973], [0.5103108188882248, 0.5044557550307862, 0.5180520496669733, 0.5096369341102645, 0.5092634095323472], [0.06492951730029903, 0.0646417445482866, 0.06638310248300433, 0.06501922803019514, 0.06503080594038249], [0.5094128193635141, 0.506518247357215, 0.5203578499122185, 0.5095812633073101, 0.509674647939935])\n"
     ]
    }
   ],
   "source": [
    "for lr in [0.1, 1, 10]:\n",
    "    print(test_model_and_vec(AdaBoostClassifier(n_estimators=50, learning_rate=lr),\n",
    "                       TfidfVectorizer(max_features=30, stop_words=stopwords.words('russian')), df))"
   ]
  },
  {
   "cell_type": "code",
   "execution_count": 54,
   "metadata": {},
   "outputs": [
    {
     "name": "stderr",
     "output_type": "stream",
     "text": [
      "C:\\ProgramData\\Anaconda3\\envs\\ysda\\lib\\site-packages\\sklearn\\neural_network\\_multilayer_perceptron.py:585: ConvergenceWarning: Stochastic Optimizer: Maximum iterations (100) reached and the optimization hasn't converged yet.\n",
      "  % self.max_iter, ConvergenceWarning)\n"
     ]
    },
    {
     "data": {
      "text/plain": [
       "MLPClassifier(max_iter=100, random_state=1)"
      ]
     },
     "execution_count": 54,
     "metadata": {},
     "output_type": "execute_result"
    }
   ],
   "source": [
    "from sklearn.neural_network import MLPClassifier\n",
    "\n",
    "clf = MLPClassifier(random_state=1, max_iter=100)\n",
    "clf.fit(X, df['label'].astype(float).values)"
   ]
  },
  {
   "cell_type": "code",
   "execution_count": 58,
   "metadata": {},
   "outputs": [],
   "source": [
    "tf = TfidfVectorizer(max_features=1000, stop_words=stopwords.words('russian'))"
   ]
  },
  {
   "cell_type": "code",
   "execution_count": 59,
   "metadata": {},
   "outputs": [],
   "source": [
    "X = prepare_data(df, tf)"
   ]
  },
  {
   "cell_type": "code",
   "execution_count": 56,
   "metadata": {},
   "outputs": [
    {
     "data": {
      "text/plain": [
       "0.4647794601711653"
      ]
     },
     "execution_count": 56,
     "metadata": {},
     "output_type": "execute_result"
    }
   ],
   "source": [
    "f1_score(df['label'], clf.predict(X))"
   ]
  },
  {
   "cell_type": "code",
   "execution_count": 60,
   "metadata": {},
   "outputs": [
    {
     "name": "stderr",
     "output_type": "stream",
     "text": [
      "C:\\ProgramData\\Anaconda3\\envs\\ysda\\lib\\site-packages\\sklearn\\neural_network\\_multilayer_perceptron.py:585: ConvergenceWarning: Stochastic Optimizer: Maximum iterations (100) reached and the optimization hasn't converged yet.\n",
      "  % self.max_iter, ConvergenceWarning)\n"
     ]
    },
    {
     "data": {
      "text/plain": [
       "MLPClassifier(max_iter=100, random_state=1)"
      ]
     },
     "execution_count": 60,
     "metadata": {},
     "output_type": "execute_result"
    }
   ],
   "source": [
    "clf = MLPClassifier(random_state=1, max_iter=100)\n",
    "clf.fit(X, df['label'].astype(float).values)"
   ]
  },
  {
   "cell_type": "code",
   "execution_count": 86,
   "metadata": {},
   "outputs": [],
   "source": [
    "def prepare_test_data(d, vectorizer):\n",
    "    msg = vectorizer.transform(d['message']).toarray()\n",
    "    print(msg.shape)\n",
    "    df_features = d.copy()\n",
    "    df_features = df_features[['n_words', 'caps_lock', 'mentions', 'actions', 'length', 'pr1', 'pr2', 'pr3', 'pr4', 'pr5', 'pr6']]\n",
    "    for i in range(msg.shape[1]):\n",
    "        df_features['msg' + str(i)] = msg[:, i]\n",
    "    return df_features"
   ]
  },
  {
   "cell_type": "code",
   "execution_count": 85,
   "metadata": {},
   "outputs": [
    {
     "data": {
      "text/plain": [
       "Index(['n_words', 'caps_lock', 'mentions', 'actions', 'length',\n",
       "       'message_grammar', 'pr1', 'pr2', 'pr3', 'pr4',\n",
       "       ...\n",
       "       'msg990', 'msg991', 'msg992', 'msg993', 'msg994', 'msg995', 'msg996',\n",
       "       'msg997', 'msg998', 'msg999'],\n",
       "      dtype='object', length=1012)"
      ]
     },
     "execution_count": 85,
     "metadata": {},
     "output_type": "execute_result"
    }
   ],
   "source": [
    "X_test.columns"
   ]
  },
  {
   "cell_type": "code",
   "execution_count": 84,
   "metadata": {},
   "outputs": [
    {
     "data": {
      "text/plain": [
       "Index(['n_words', 'caps_lock', 'mentions', 'actions', 'length', 'pr1', 'pr2',\n",
       "       'pr3', 'pr4', 'pr5',\n",
       "       ...\n",
       "       'msg990', 'msg991', 'msg992', 'msg993', 'msg994', 'msg995', 'msg996',\n",
       "       'msg997', 'msg998', 'msg999'],\n",
       "      dtype='object', length=1011)"
      ]
     },
     "execution_count": 84,
     "metadata": {},
     "output_type": "execute_result"
    }
   ],
   "source": [
    "X.columns"
   ]
  },
  {
   "cell_type": "code",
   "execution_count": 87,
   "metadata": {},
   "outputs": [
    {
     "name": "stdout",
     "output_type": "stream",
     "text": [
      "(6170, 1000)\n",
      "(6170, 1011)\n"
     ]
    }
   ],
   "source": [
    "test = pd.read_csv(\"pulse_processed_test.csv\")\n",
    "test = test.fillna(\"\")\n",
    "\n",
    "X_test = prepare_test_data(test, tf)\n",
    "print(X_test.shape)\n",
    "y = clf.predict(X_test)"
   ]
  },
  {
   "cell_type": "code",
   "execution_count": 91,
   "metadata": {},
   "outputs": [],
   "source": [
    "test['toxic'] = y\n",
    "test.to_csv('gcn1.csv')"
   ]
  },
  {
   "cell_type": "code",
   "execution_count": 24,
   "metadata": {},
   "outputs": [
    {
     "data": {
      "text/plain": [
       "([0.23280423280423282,\n",
       "  0.2357473035439137,\n",
       "  0.21077283372365335,\n",
       "  0.2198697068403909,\n",
       "  0.194647201946472],\n",
       " [0.7660114273185477,\n",
       "  0.7670219081994543,\n",
       "  0.7274735190733445,\n",
       "  0.7314328795992671,\n",
       "  0.6970440444454928],\n",
       " [0.3820695433598659,\n",
       "  0.38702840186519716,\n",
       "  0.3764172335600907,\n",
       "  0.3879328659443382,\n",
       "  0.37602965403624383],\n",
       " [0.944905124757209,\n",
       "  0.9459863284897837,\n",
       "  0.9435022972619626,\n",
       "  0.9461917746815585,\n",
       "  0.9434089126293378])"
      ]
     },
     "execution_count": 24,
     "metadata": {},
     "output_type": "execute_result"
    }
   ],
   "source": [
    "text_clf = GaussianNB()\n",
    "\n",
    "test_model_and_vec(text_clf, TfidfVectorizer(norm='l2', use_idf=True, stop_words=stopwords.words('russian')), df)"
   ]
  },
  {
   "cell_type": "code",
   "execution_count": 36,
   "metadata": {},
   "outputs": [
    {
     "data": {
      "text/plain": [
       "([0.02586206896551724,\n",
       "  0.017316017316017316,\n",
       "  0.017391304347826087,\n",
       "  0.017391304347826087,\n",
       "  0.025974025974025976],\n",
       " [0.5065502183406113,\n",
       "  0.5043112599966972,\n",
       "  0.5043859649122807,\n",
       "  0.5043859649122807,\n",
       "  0.506578947368421],\n",
       " [0.025945945945945945,\n",
       "  0.028077753779697626,\n",
       "  0.03229278794402583,\n",
       "  0.034408602150537634,\n",
       "  0.028047464940668825],\n",
       " [0.5065602711395252,\n",
       "  0.5071193866374589,\n",
       "  0.5081959999628508,\n",
       "  0.5087436450888091,\n",
       "  0.5071007097109339])"
      ]
     },
     "execution_count": 36,
     "metadata": {},
     "output_type": "execute_result"
    }
   ],
   "source": [
    "from sklearn.pipeline import Pipeline\n",
    "from sklearn.naive_bayes import MultinomialNB\n",
    "from sklearn.feature_extraction.text import CountVectorizer, TfidfTransformer\n",
    "\n",
    "text_clf = MultinomialNB(alpha=1)\n",
    "\n",
    "test_model_and_vec(text_clf, TfidfVectorizer(norm='l2', use_idf=True, stop_words=stopwords.words('russian')), df)"
   ]
  },
  {
   "cell_type": "code",
   "execution_count": 39,
   "metadata": {},
   "outputs": [],
   "source": [
    "from pprint import pprint as pp"
   ]
  },
  {
   "cell_type": "code",
   "execution_count": 42,
   "metadata": {
    "scrolled": false
   },
   "outputs": [
    {
     "name": "stdout",
     "output_type": "stream",
     "text": [
      "===============================\n",
      "===============================\n",
      "===============================\n",
      "===============================\n",
      "TfidfVectorizer(max_features=4000,\n",
      "                stop_words=['и', 'в', 'во', 'не', 'что', 'он', 'на', 'я', 'с',\n",
      "                            'со', 'как', 'а', 'то', 'все', 'она', 'так', 'его',\n",
      "                            'но', 'да', 'ты', 'к', 'у', 'же', 'вы', 'за', 'бы',\n",
      "                            'по', 'только', 'ее', 'мне', ...]) GaussianNB()\n",
      "[(0.20535714285714288, 0.30354468297553666),\n",
      " (0.21633554083885206, 0.3170138888888889),\n",
      " (0.20924943138741467, 0.3256643481362582),\n",
      " (0.22125181950509465, 0.31433981752453094),\n",
      " (0.20648078372268275, 0.32531623017993944)]\n",
      "[(0.728312434582647, 0.9218399820708202),\n",
      " (0.7488587841185214, 0.9265249710507638),\n",
      " (0.731437794396345, 0.9293825408090844),\n",
      " (0.7590766472433885, 0.9256098016510402),\n",
      " (0.7285724676999537, 0.9292704792499346)]\n"
     ]
    }
   ],
   "source": [
    "models = [\n",
    "    GaussianNB(),\n",
    "#     KNeighborsClassifier(),\n",
    "#     GradientBoostingClassifier(),\n",
    "#     RandomForestClassifier(random_state=0),\n",
    "#     LogisticRegression()\n",
    "]\n",
    "vecs = [\n",
    "#     TfidfVectorizer(max_features=1000, stop_words=stopwords.words('russian')),\n",
    "    TfidfVectorizer(max_features=4000, norm='l2', use_idf=True, stop_words=stopwords.words('russian')),\n",
    "#     TfidfVectorizer(max_features=100, norm='l2', use_idf=True, stop_words=stopwords.words('russian')),\n",
    "#     TfidfVectorizer(max_features=400, norm='l2', use_idf=True, stop_words=stopwords.words('russian')),\n",
    "#     TfidfVectorizer(max_features=600, norm='l2', use_idf=True, stop_words=stopwords.words('russian')),\n",
    "#     TfidfVectorizer(max_features=4000, stop_words=stopwords.words('russian')),\n",
    "#     TfidfVectorizer(max_features=8000, stop_words=stopwords.words('russian')),\n",
    "#     TfidfVectorizer(max_features=12000, stop_words=stopwords.words('russian')),\n",
    "]\n",
    "\n",
    "for v in vecs:\n",
    "    for model in models:\n",
    "        print('===============================')\n",
    "        print('===============================')\n",
    "        print('===============================')\n",
    "        print('===============================')\n",
    "        print(v, model)\n",
    "        score, roc_auc, train_score, train_roc_auc = test_model_and_vec(model, v, df)\n",
    "        pp(list(zip(score, train_score)))\n",
    "        pp(list(zip(roc_auc, train_roc_auc)))\n",
    "        "
   ]
  },
  {
   "cell_type": "code",
   "execution_count": 30,
   "metadata": {},
   "outputs": [
    {
     "name": "stdout",
     "output_type": "stream",
     "text": [
      "===============================\n",
      "===============================\n",
      "===============================\n",
      "===============================\n",
      "TfidfVectorizer(max_features=1000,\n",
      "                stop_words=['и', 'в', 'во', 'не', 'что', 'он', 'на', 'я', 'с',\n",
      "                            'со', 'как', 'а', 'то', 'все', 'она', 'так', 'его',\n",
      "                            'но', 'да', 'ты', 'к', 'у', 'же', 'вы', 'за', 'бы',\n",
      "                            'по', 'только', 'ее', 'мне', ...]) RandomForestClassifier(n_jobs=-1)\n",
      "[(0.21221864951768488, 0.9623059866962306),\n",
      " (0.26168224299065423, 0.9660545353366722),\n",
      " (0.22857142857142856, 0.9656319290465633),\n",
      " (0.21262458471760798, 0.966740576496674),\n",
      " (0.2662337662337662, 0.9660922734852695)]\n",
      "[(0.5683913138806161, 0.9754289634889555),\n",
      " (0.588295312463139, 0.9750571385074734),\n",
      " (0.5751374177262969, 0.9766253661792486),\n",
      " (0.5671125370575699, 0.977191688231732),\n",
      " (0.586998788994, 0.9755861067069068)]\n",
      "===============================\n",
      "===============================\n",
      "===============================\n",
      "===============================\n",
      "TfidfVectorizer(max_features=1000,\n",
      "                stop_words=['и', 'в', 'во', 'не', 'что', 'он', 'на', 'я', 'с',\n",
      "                            'со', 'как', 'а', 'то', 'все', 'она', 'так', 'его',\n",
      "                            'но', 'да', 'ты', 'к', 'у', 'же', 'вы', 'за', 'бы',\n",
      "                            'по', 'только', 'ее', 'мне', ...]) RandomForestClassifier(criterion='entropy', n_jobs=-1)\n",
      "[(0.21639344262295082, 0.9626740947075209),\n",
      " (0.2646153846153846, 0.9693251533742331),\n",
      " (0.20625000000000002, 0.9689234184239733),\n",
      " (0.19081272084805653, 0.96440489432703),\n",
      " (0.23606557377049178, 0.9628808864265926)]\n",
      "[(0.5688396103540172, 0.9733293621772943),\n",
      " (0.590264180172529, 0.9756981682660566),\n",
      " (0.5679608310332084, 0.9777953641372653),\n",
      " (0.557118788679453, 0.974472139528465),\n",
      " (0.5758844668821315, 0.9754740451477569)]\n"
     ]
    }
   ],
   "source": [
    "models = [\n",
    "#     GaussianNB(),\n",
    "#     KNeighborsClassifier(),\n",
    "#     GradientBoostingClassifier(),\n",
    "#     RandomForestClassifier(random_state=0),\n",
    "    RandomForestClassifier(criterion='entropy', n_jobs=-1)\n",
    "#     LogisticRegression()\n",
    "]\n",
    "vecs = [\n",
    "    TfidfVectorizer(max_features=1000, stop_words=stopwords.words('russian')),\n",
    "#     TfidfVectorizer(max_features=4000, stop_words=stopwords.words('russian')),\n",
    "#     TfidfVectorizer(max_features=8000, stop_words=stopwords.words('russian')),\n",
    "#     TfidfVectorizer(max_features=12000, stop_words=stopwords.words('russian')),\n",
    "]\n",
    "\n",
    "for v in vecs:\n",
    "    for model in models:\n",
    "        print('===============================')\n",
    "        print('===============================')\n",
    "        print('===============================')\n",
    "        print('===============================')\n",
    "        print(v, model)\n",
    "        score, roc_auc, train_score, train_roc_auc = test_model_and_vec(model, v, df)\n",
    "        pp(list(zip(score, train_score)))\n",
    "        pp(list(zip(roc_auc, train_roc_auc)))\n",
    "        "
   ]
  },
  {
   "cell_type": "code",
   "execution_count": 24,
   "metadata": {},
   "outputs": [
    {
     "data": {
      "text/plain": [
       "{'mean_fit_time': array([ 43.15138979,  63.85568862, 106.96344376,  38.47137718,\n",
       "         58.8028172 ,  62.94210825]),\n",
       " 'std_fit_time': array([2.98111799, 2.89388121, 1.68843697, 0.84917034, 4.10973989,\n",
       "        5.6629758 ]),\n",
       " 'mean_score_time': array([0.52870736, 0.59727302, 0.57439876, 0.50002456, 0.46710553,\n",
       "        0.24799123]),\n",
       " 'std_score_time': array([0.01569388, 0.03377648, 0.11295477, 0.04012577, 0.10853171,\n",
       "        0.06351297]),\n",
       " 'param_criterion': masked_array(data=['gini', 'gini', 'gini', 'entropy', 'entropy',\n",
       "                    'entropy'],\n",
       "              mask=[False, False, False, False, False, False],\n",
       "        fill_value='?',\n",
       "             dtype=object),\n",
       " 'param_max_depth': masked_array(data=[3, 5, 10, 3, 5, 10],\n",
       "              mask=[False, False, False, False, False, False],\n",
       "        fill_value='?',\n",
       "             dtype=object),\n",
       " 'params': [{'criterion': 'gini', 'max_depth': 3},\n",
       "  {'criterion': 'gini', 'max_depth': 5},\n",
       "  {'criterion': 'gini', 'max_depth': 10},\n",
       "  {'criterion': 'entropy', 'max_depth': 3},\n",
       "  {'criterion': 'entropy', 'max_depth': 5},\n",
       "  {'criterion': 'entropy', 'max_depth': 10}],\n",
       " 'split0_test_score': array([0., 0., 0., 0., 0., 0.]),\n",
       " 'split1_test_score': array([0., 0., 0., 0., 0., 0.]),\n",
       " 'split2_test_score': array([0., 0., 0., 0., 0., 0.]),\n",
       " 'split3_test_score': array([0., 0., 0., 0., 0., 0.]),\n",
       " 'split4_test_score': array([0., 0., 0., 0., 0., 0.]),\n",
       " 'mean_test_score': array([0., 0., 0., 0., 0., 0.]),\n",
       " 'std_test_score': array([0., 0., 0., 0., 0., 0.]),\n",
       " 'rank_test_score': array([1, 1, 1, 1, 1, 1])}"
      ]
     },
     "execution_count": 24,
     "metadata": {},
     "output_type": "execute_result"
    }
   ],
   "source": [
    "clf.cv_results_"
   ]
  },
  {
   "cell_type": "code",
   "execution_count": null,
   "metadata": {},
   "outputs": [],
   "source": []
  },
  {
   "cell_type": "code",
   "execution_count": 79,
   "metadata": {
    "scrolled": true
   },
   "outputs": [
    {
     "data": {
      "text/plain": [
       "(array([660., 288., 103.,  36.,  18.,  10.,   6.,   8.,   7.,   5.]),\n",
       " array([  3. ,  47.7,  92.4, 137.1, 181.8, 226.5, 271.2, 315.9, 360.6,\n",
       "        405.3, 450. ]),\n",
       " <BarContainer object of 10 artists>)"
      ]
     },
     "execution_count": 79,
     "metadata": {},
     "output_type": "execute_result"
    },
    {
     "data": {
      "image/png": "[encoded data removed]",
      "text/plain": [
       "<Figure size 432x288 with 1 Axes>"
      ]
     },
     "metadata": {
      "needs_background": "light"
     },
     "output_type": "display_data"
    }
   ],
   "source": [
    "from matplotlib import pyplot as plt\n",
    "\n",
    "plt.hist(pulse[pulse['label'] == 1]['mean_length'])"
   ]
  },
  {
   "cell_type": "code",
   "execution_count": 80,
   "metadata": {},
   "outputs": [
    {
     "data": {
      "text/plain": [
       "(array([ 8353., 10307.,  6139.,  3432.,  2129.,  1214.,   767.,   495.,\n",
       "          366.,   264.]),\n",
       " array([  3. ,  52.7, 102.4, 152.1, 201.8, 251.5, 301.2, 350.9, 400.6,\n",
       "        450.3, 500. ]),\n",
       " <BarContainer object of 10 artists>)"
      ]
     },
     "execution_count": 80,
     "metadata": {},
     "output_type": "execute_result"
    },
    {
     "data": {
      "image/png": "[encoded data removed]",
      "text/plain": [
       "<Figure size 432x288 with 1 Axes>"
      ]
     },
     "metadata": {
      "needs_background": "light"
     },
     "output_type": "display_data"
    }
   ],
   "source": [
    "plt.hist(pulse[pulse['label'] == 0]['mean_length'])"
   ]
  },
  {
   "cell_type": "code",
   "execution_count": null,
   "metadata": {
    "collapsed": true
   },
   "outputs": [],
   "source": []
  }
 ],
 "metadata": {
  "kernelspec": {
   "display_name": "YSDA",
   "language": "python",
   "name": "ysda"
  },
  "language_info": {
   "codemirror_mode": {
    "name": "ipython",
    "version": 3
   },
   "file_extension": ".py",
   "mimetype": "text/x-python",
   "name": "python",
   "nbconvert_exporter": "python",
   "pygments_lexer": "ipython3",
   "version": "3.6.12"
  }
 },
 "nbformat": 4,
 "nbformat_minor": 4
}

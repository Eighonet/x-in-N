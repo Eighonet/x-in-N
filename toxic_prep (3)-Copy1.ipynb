{
 "cells": [
  {
   "cell_type": "code",
   "execution_count": 11,
   "metadata": {},
   "outputs": [
    {
     "name": "stderr",
     "output_type": "stream",
     "text": [
      "[nltk_data] Downloading package wordnet to\n",
      "[nltk_data]     C:\\Users\\Daria\\AppData\\Roaming\\nltk_data...\n",
      "[nltk_data]   Package wordnet is already up-to-date!\n"
     ]
    },
    {
     "data": {
      "text/plain": [
       "True"
      ]
     },
     "execution_count": 11,
     "metadata": {},
     "output_type": "execute_result"
    }
   ],
   "source": [
    "import pandas as pd\n",
    "import re\n",
    "import numpy as np\n",
    "\n",
    "from sklearn.decomposition import PCA, TruncatedSVD \n",
    "from sklearn.feature_extraction.text import TfidfVectorizer, CountVectorizer\n",
    "from sklearn.linear_model import LogisticRegression\n",
    "from sklearn.metrics import f1_score, roc_auc_score\n",
    "from sklearn.model_selection import train_test_split, GridSearchCV\n",
    "from sklearn.model_selection import StratifiedKFold\n",
    "# from sklearn.semi_supervised import LabelSpreading\n",
    "from sklearn.pipeline import Pipeline\n",
    "from sklearn.svm import SVC\n",
    "from sklearn.ensemble import RandomForestClassifier\n",
    "from sklearn.base import BaseEstimator, ClassifierMixin, RegressorMixin\n",
    "from sklearn.linear_model import LogisticRegression, LinearRegression\n",
    "from sklearn.neighbors import KNeighborsRegressor, KNeighborsClassifier\n",
    "from sklearn.naive_bayes import GaussianNB\n",
    "from sklearn.model_selection import GridSearchCV, cross_validate, StratifiedKFold\n",
    "from sklearn.preprocessing import StandardScaler\n",
    "from sklearn.ensemble import RandomForestRegressor, RandomForestClassifier, GradientBoostingClassifier, VotingClassifier\n",
    "from sklearn.svm import SVR, SVC\n",
    "from sklearn.cluster import DBSCAN\n",
    "from sklearn.metrics import jaccard_score, mean_absolute_error\n",
    "from sklearn.feature_selection import SelectFromModel\n",
    "\n",
    "from nltk.stem import PorterStemmer, WordNetLemmatizer\n",
    "from nltk.corpus import wordnet\n",
    "from nltk.corpus import stopwords\n",
    "import nltk\n",
    "from pymystem3 import Mystem\n",
    "nltk.download('wordnet')\n",
    "# from sklearn.preprocessing import StandardScaler"
   ]
  },
  {
   "cell_type": "code",
   "execution_count": 2,
   "metadata": {
    "collapsed": true
   },
   "outputs": [],
   "source": [
    "# import ssl\n",
    "# try:\n",
    "#     _create_unverified_https_context = ssl._create_unverified_context\n",
    "# except AttributeError:\n",
    "#     pass\n",
    "# else:\n",
    "#     ssl._create_default_https_context = _create_unverified_https_context\n"
   ]
  },
  {
   "cell_type": "code",
   "execution_count": 7,
   "metadata": {},
   "outputs": [],
   "source": [
    "pulse_processed_df = pd.read_csv(\"pulse_processed.csv\")"
   ]
  },
  {
   "cell_type": "code",
   "execution_count": 8,
   "metadata": {},
   "outputs": [],
   "source": [
    "pulse_processed_df = pulse_processed_df.dropna()"
   ]
  },
  {
   "cell_type": "code",
   "execution_count": 9,
   "metadata": {},
   "outputs": [],
   "source": [
    "def test_model(model, X, y, k=5):\n",
    "    skf = StratifiedKFold(n_splits=k, shuffle=True)\n",
    "    score = []\n",
    "    roc_auc = []\n",
    "    train_score = []\n",
    "    train_roc_auc = []\n",
    "    for train_index, test_index in skf.split(X, y):\n",
    "        X_train, X_test = X[train_index], X[test_index]\n",
    "        y_train, y_test = y[train_index], y[test_index]\n",
    "        model.fit(X_train, y_train)\n",
    "        preds = model.predict(X_test)\n",
    "        train_preds = model.predict(X_train)\n",
    "        score.append(f1_score(y_test, preds))\n",
    "        roc_auc.append(roc_auc_score(y_test, preds))\n",
    "        train_score.append(f1_score(y_train, train_preds))\n",
    "        train_roc_auc.append(roc_auc_score(y_train, train_preds))\n",
    "        \n",
    "    return score, roc_auc, train_score, train_roc_auc"
   ]
  },
  {
   "cell_type": "code",
   "execution_count": 10,
   "metadata": {},
   "outputs": [],
   "source": [
    "df = pulse_processed_df"
   ]
  },
  {
   "cell_type": "code",
   "execution_count": 12,
   "metadata": {},
   "outputs": [],
   "source": [
    "def prepare_data(d, vectorizer):\n",
    "    msg = vectorizer.fit_transform(d['message']).toarray()\n",
    "    df_features = df.copy()\n",
    "    df_features = df_features[['n_words', 'caps_lock', 'mentions', 'actions', 'length', 'message_grammar', 'pr1', 'pr2', 'pr3', 'pr4', 'pr5', 'pr6']]\n",
    "    for i in range(msg.shape[1]):\n",
    "        df_features['msg' + str(i)] = msg[:, i]\n",
    "    return df_features"
   ]
  },
  {
   "cell_type": "code",
   "execution_count": 16,
   "metadata": {},
   "outputs": [],
   "source": [
    "def test_model_and_vec(model, vec, d, k=5):\n",
    "    skf = StratifiedKFold(n_splits=k, shuffle=True)\n",
    "    X = prepare_data(d, vec)\n",
    "    X = np.array(X)\n",
    "    \n",
    "#     print(X.shape)\n",
    "\n",
    "    y = d['label'].astype(float).values\n",
    "#     print(list(y))\n",
    "    score = []\n",
    "    roc_auc = []\n",
    "    train_score = []\n",
    "    train_roc_auc = []\n",
    "    for train_index, test_index in skf.split(X, y):\n",
    "        X_train, X_test = X[train_index], X[test_index]\n",
    "        y_train, y_test = y[train_index], y[test_index]\n",
    "        model.fit(X_train, y_train)\n",
    "        preds = model.predict(X_test)\n",
    "        train_preds = model.predict(X_train)\n",
    "        score.append(f1_score(y_test, preds))\n",
    "        roc_auc.append(roc_auc_score(y_test, preds))\n",
    "        train_score.append(f1_score(y_train, train_preds))\n",
    "        train_roc_auc.append(roc_auc_score(y_train, train_preds))\n",
    "        \n",
    "    return score, roc_auc, train_score, train_roc_auc"
   ]
  },
  {
   "cell_type": "code",
   "execution_count": 10,
   "metadata": {},
   "outputs": [
    {
     "data": {
      "text/plain": [
       "([0.0875912408759124,\n",
       "  0.08540925266903913,\n",
       "  0.12676056338028172,\n",
       "  0.09059233449477351,\n",
       "  0.04395604395604395],\n",
       " [0.5237352427587395,\n",
       "  0.523252887934763,\n",
       "  0.5366348974183553,\n",
       "  0.5250723458129861,\n",
       "  0.5102444030290878],\n",
       " [0.8850506253722454,\n",
       "  0.8779035139964264,\n",
       "  0.8820391227030232,\n",
       "  0.8868035190615836,\n",
       "  0.8807985907222549],\n",
       " [0.9068982617345696,\n",
       "  0.9030728269621012,\n",
       "  0.9068876659172848,\n",
       "  0.9133473458696355,\n",
       "  0.9099867674077854])"
      ]
     },
     "execution_count": 10,
     "metadata": {},
     "output_type": "execute_result"
    }
   ],
   "source": [
    "test_model_and_vec(RandomForestClassifier(),\n",
    "                   TfidfVectorizer(max_features=30, stop_words=stopwords.words('russian')),\n",
    "                   df)"
   ]
  },
  {
   "cell_type": "code",
   "execution_count": 31,
   "metadata": {},
   "outputs": [
    {
     "name": "stderr",
     "output_type": "stream",
     "text": [
      "C:\\ProgramData\\Anaconda3\\envs\\ysda\\lib\\site-packages\\sklearn\\neural_network\\_multilayer_perceptron.py:587: UserWarning: Training interrupted by user.\n",
      "  warnings.warn(\"Training interrupted by user.\")\n"
     ]
    },
    {
     "data": {
      "text/plain": [
       "([0.30701754385964913,\n",
       "  0.3444730077120823,\n",
       "  0.2690058479532163,\n",
       "  0.3539445628997868,\n",
       "  0.25531914893617025],\n",
       " [0.6411080035602702,\n",
       "  0.6399075624965597,\n",
       "  0.5957972587227819,\n",
       "  0.6702141671974648,\n",
       "  0.5977926663363923],\n",
       " [0.8384279475982531,\n",
       "  0.8477777777777777,\n",
       "  0.8227040816326531,\n",
       "  0.7877013177159591,\n",
       "  0.8186274509803921],\n",
       " [0.9182138447867764,\n",
       "  0.9155372922171467,\n",
       "  0.8530443369779047,\n",
       "  0.9358049078216963,\n",
       "  0.8648744208874237])"
      ]
     },
     "execution_count": 31,
     "metadata": {},
     "output_type": "execute_result"
    }
   ],
   "source": [
    "from sklearn.neural_network import MLPClassifier\n",
    "\n",
    "clf = MLPClassifier(random_state=1, max_iter=300)\n",
    "test_model_and_vec(clf, TfidfVectorizer(max_features=1000, stop_words=stopwords.words('russian')), df)"
   ]
  },
  {
   "cell_type": "code",
   "execution_count": null,
   "metadata": {},
   "outputs": [],
   "source": [
    "from sklearn.pipeline import Pipeline\n",
    "from sklearn.naive_bayes import MultinomialNB\n",
    "from sklearn.feature_extraction.text import CountVectorizer, TfidfTransformer\n",
    "\n",
    "text_clf = MultinomialNB(alpha=1)\n",
    "\n",
    "test_model_and_vec(text_clf, TfidfVectorizer(norm='l2', use_idf=True, stop_words=stopwords.words('russian')), df)"
   ]
  },
  {
   "cell_type": "code",
   "execution_count": 12,
   "metadata": {},
   "outputs": [],
   "source": [
    "from pprint import pprint as pp"
   ]
  },
  {
   "cell_type": "code",
   "execution_count": 18,
   "metadata": {
    "scrolled": false
   },
   "outputs": [
    {
     "name": "stdout",
     "output_type": "stream",
     "text": [
      "===============================\n",
      "===============================\n",
      "===============================\n",
      "===============================\n",
      "TfidfVectorizer(max_features=4000,\n",
      "                stop_words=['и', 'в', 'во', 'не', 'что', 'он', 'на', 'я', 'с',\n",
      "                            'со', 'как', 'а', 'то', 'все', 'она', 'так', 'его',\n",
      "                            'но', 'да', 'ты', 'к', 'у', 'же', 'вы', 'за', 'бы',\n",
      "                            'по', 'только', 'ее', 'мне', ...]) GaussianNB()\n",
      "[(0.22870299309286266, 0.3268231499731231),\n",
      " (0.20977011494252873, 0.31406948744410046),\n",
      " (0.22450592885375492, 0.3269471799462847),\n",
      " (0.2116477272727273, 0.30834177642688276),\n",
      " (0.2145377558221595, 0.3128319342127805)]\n",
      "[(0.7562151379343648, 0.929833408038249),\n",
      " (0.7441258345325439, 0.9255164170184155),\n",
      " (0.7445426093247461, 0.9297934331926337),\n",
      " (0.7497336179983801, 0.9234993089537186),\n",
      " (0.7558643358733004, 0.925086847708341)]\n",
      "===============================\n",
      "===============================\n",
      "===============================\n",
      "===============================\n",
      "TfidfVectorizer(max_features=8000,\n",
      "                stop_words=['и', 'в', 'во', 'не', 'что', 'он', 'на', 'я', 'с',\n",
      "                            'со', 'как', 'а', 'то', 'все', 'она', 'так', 'его',\n",
      "                            'но', 'да', 'ты', 'к', 'у', 'же', 'вы', 'за', 'бы',\n",
      "                            'по', 'только', 'ее', 'мне', ...]) GaussianNB()\n",
      "[(0.2317380352644836, 0.34835752482811305),\n",
      " (0.22203389830508477, 0.3641802951735142),\n",
      " (0.19932432432432431, 0.34980842911877397),\n",
      " (0.20766773162939298, 0.35490767735665696),\n",
      " (0.20108275328692962, 0.34048107402573186)]\n",
      "[(0.7397439946543746, 0.936276707007321),\n",
      " (0.7259479660603773, 0.9404579582383923),\n",
      " (0.6961692105656342, 0.9366105113742482),\n",
      " (0.7183015247666454, 0.9380112808636211),\n",
      " (0.7152386232277241, 0.9339397108811773)]\n",
      "===============================\n",
      "===============================\n",
      "===============================\n",
      "===============================\n",
      "TfidfVectorizer(max_features=12000,\n",
      "                stop_words=['и', 'в', 'во', 'не', 'что', 'он', 'на', 'я', 'с',\n",
      "                            'со', 'как', 'а', 'то', 'все', 'она', 'так', 'его',\n",
      "                            'но', 'да', 'ты', 'к', 'у', 'же', 'вы', 'за', 'бы',\n",
      "                            'по', 'только', 'ее', 'мне', ...]) GaussianNB()\n",
      "[(0.24227234753550544, 0.3572967678746327),\n",
      " (0.21241830065359477, 0.36829366680112946),\n",
      " (0.2048, 0.36439832368788666),\n",
      " (0.2205761316872428, 0.3514241724403387),\n",
      " (0.22405271828665568, 0.3648351648351648)]\n",
      "[(0.7551025535280345, 0.938723292992679),\n",
      " (0.7203932624029818, 0.9415038661237907),\n",
      " (0.7139155598543647, 0.9405139890179672),\n",
      " (0.7301363561301281, 0.9370587576108476),\n",
      " (0.7347464357891591, 0.940626050577117)]\n"
     ]
    }
   ],
   "source": [
    "models = [\n",
    "    GaussianNB(),\n",
    "#     KNeighborsClassifier(),\n",
    "#     GradientBoostingClassifier(),\n",
    "#     RandomForestClassifier(random_state=0),\n",
    "#     LogisticRegression()\n",
    "]\n",
    "vecs = [\n",
    "#     TfidfVectorizer(max_features=1000, stop_words=stopwords.words('russian')),\n",
    "    TfidfVectorizer(max_features=4000, stop_words=stopwords.words('russian')),\n",
    "    TfidfVectorizer(max_features=8000, stop_words=stopwords.words('russian')),\n",
    "    TfidfVectorizer(max_features=12000, stop_words=stopwords.words('russian')),\n",
    "]\n",
    "\n",
    "for v in vecs:\n",
    "    for model in models:\n",
    "        print('===============================')\n",
    "        print('===============================')\n",
    "        print('===============================')\n",
    "        print('===============================')\n",
    "        print(v, model)\n",
    "        score, roc_auc, train_score, train_roc_auc = test_model_and_vec(model, v, df)\n",
    "        pp(list(zip(score, train_score)))\n",
    "        pp(list(zip(roc_auc, train_roc_auc)))\n",
    "        "
   ]
  },
  {
   "cell_type": "code",
   "execution_count": 30,
   "metadata": {},
   "outputs": [
    {
     "name": "stdout",
     "output_type": "stream",
     "text": [
      "===============================\n",
      "===============================\n",
      "===============================\n",
      "===============================\n",
      "TfidfVectorizer(max_features=1000,\n",
      "                stop_words=['и', 'в', 'во', 'не', 'что', 'он', 'на', 'я', 'с',\n",
      "                            'со', 'как', 'а', 'то', 'все', 'она', 'так', 'его',\n",
      "                            'но', 'да', 'ты', 'к', 'у', 'же', 'вы', 'за', 'бы',\n",
      "                            'по', 'только', 'ее', 'мне', ...]) RandomForestClassifier(n_jobs=-1)\n",
      "[(0.21221864951768488, 0.9623059866962306),\n",
      " (0.26168224299065423, 0.9660545353366722),\n",
      " (0.22857142857142856, 0.9656319290465633),\n",
      " (0.21262458471760798, 0.966740576496674),\n",
      " (0.2662337662337662, 0.9660922734852695)]\n",
      "[(0.5683913138806161, 0.9754289634889555),\n",
      " (0.588295312463139, 0.9750571385074734),\n",
      " (0.5751374177262969, 0.9766253661792486),\n",
      " (0.5671125370575699, 0.977191688231732),\n",
      " (0.586998788994, 0.9755861067069068)]\n",
      "===============================\n",
      "===============================\n",
      "===============================\n",
      "===============================\n",
      "TfidfVectorizer(max_features=1000,\n",
      "                stop_words=['и', 'в', 'во', 'не', 'что', 'он', 'на', 'я', 'с',\n",
      "                            'со', 'как', 'а', 'то', 'все', 'она', 'так', 'его',\n",
      "                            'но', 'да', 'ты', 'к', 'у', 'же', 'вы', 'за', 'бы',\n",
      "                            'по', 'только', 'ее', 'мне', ...]) RandomForestClassifier(criterion='entropy', n_jobs=-1)\n",
      "[(0.21639344262295082, 0.9626740947075209),\n",
      " (0.2646153846153846, 0.9693251533742331),\n",
      " (0.20625000000000002, 0.9689234184239733),\n",
      " (0.19081272084805653, 0.96440489432703),\n",
      " (0.23606557377049178, 0.9628808864265926)]\n",
      "[(0.5688396103540172, 0.9733293621772943),\n",
      " (0.590264180172529, 0.9756981682660566),\n",
      " (0.5679608310332084, 0.9777953641372653),\n",
      " (0.557118788679453, 0.974472139528465),\n",
      " (0.5758844668821315, 0.9754740451477569)]\n"
     ]
    }
   ],
   "source": [
    "models = [\n",
    "#     GaussianNB(),\n",
    "#     KNeighborsClassifier(),\n",
    "#     GradientBoostingClassifier(),\n",
    "#     RandomForestClassifier(random_state=0),\n",
    "    RandomForestClassifier(criterion='entropy', n_jobs=-1)\n",
    "#     LogisticRegression()\n",
    "]\n",
    "vecs = [\n",
    "    TfidfVectorizer(max_features=1000, stop_words=stopwords.words('russian')),\n",
    "#     TfidfVectorizer(max_features=4000, stop_words=stopwords.words('russian')),\n",
    "#     TfidfVectorizer(max_features=8000, stop_words=stopwords.words('russian')),\n",
    "#     TfidfVectorizer(max_features=12000, stop_words=stopwords.words('russian')),\n",
    "]\n",
    "\n",
    "for v in vecs:\n",
    "    for model in models:\n",
    "        print('===============================')\n",
    "        print('===============================')\n",
    "        print('===============================')\n",
    "        print('===============================')\n",
    "        print(v, model)\n",
    "        score, roc_auc, train_score, train_roc_auc = test_model_and_vec(model, v, df)\n",
    "        pp(list(zip(score, train_score)))\n",
    "        pp(list(zip(roc_auc, train_roc_auc)))\n",
    "        "
   ]
  },
  {
   "cell_type": "code",
   "execution_count": 24,
   "metadata": {},
   "outputs": [
    {
     "data": {
      "text/plain": [
       "{'mean_fit_time': array([ 43.15138979,  63.85568862, 106.96344376,  38.47137718,\n",
       "         58.8028172 ,  62.94210825]),\n",
       " 'std_fit_time': array([2.98111799, 2.89388121, 1.68843697, 0.84917034, 4.10973989,\n",
       "        5.6629758 ]),\n",
       " 'mean_score_time': array([0.52870736, 0.59727302, 0.57439876, 0.50002456, 0.46710553,\n",
       "        0.24799123]),\n",
       " 'std_score_time': array([0.01569388, 0.03377648, 0.11295477, 0.04012577, 0.10853171,\n",
       "        0.06351297]),\n",
       " 'param_criterion': masked_array(data=['gini', 'gini', 'gini', 'entropy', 'entropy',\n",
       "                    'entropy'],\n",
       "              mask=[False, False, False, False, False, False],\n",
       "        fill_value='?',\n",
       "             dtype=object),\n",
       " 'param_max_depth': masked_array(data=[3, 5, 10, 3, 5, 10],\n",
       "              mask=[False, False, False, False, False, False],\n",
       "        fill_value='?',\n",
       "             dtype=object),\n",
       " 'params': [{'criterion': 'gini', 'max_depth': 3},\n",
       "  {'criterion': 'gini', 'max_depth': 5},\n",
       "  {'criterion': 'gini', 'max_depth': 10},\n",
       "  {'criterion': 'entropy', 'max_depth': 3},\n",
       "  {'criterion': 'entropy', 'max_depth': 5},\n",
       "  {'criterion': 'entropy', 'max_depth': 10}],\n",
       " 'split0_test_score': array([0., 0., 0., 0., 0., 0.]),\n",
       " 'split1_test_score': array([0., 0., 0., 0., 0., 0.]),\n",
       " 'split2_test_score': array([0., 0., 0., 0., 0., 0.]),\n",
       " 'split3_test_score': array([0., 0., 0., 0., 0., 0.]),\n",
       " 'split4_test_score': array([0., 0., 0., 0., 0., 0.]),\n",
       " 'mean_test_score': array([0., 0., 0., 0., 0., 0.]),\n",
       " 'std_test_score': array([0., 0., 0., 0., 0., 0.]),\n",
       " 'rank_test_score': array([1, 1, 1, 1, 1, 1])}"
      ]
     },
     "execution_count": 24,
     "metadata": {},
     "output_type": "execute_result"
    }
   ],
   "source": [
    "clf.cv_results_"
   ]
  },
  {
   "cell_type": "code",
   "execution_count": null,
   "metadata": {},
   "outputs": [],
   "source": []
  },
  {
   "cell_type": "code",
   "execution_count": 79,
   "metadata": {
    "scrolled": true
   },
   "outputs": [
    {
     "data": {
      "text/plain": [
       "(array([660., 288., 103.,  36.,  18.,  10.,   6.,   8.,   7.,   5.]),\n",
       " array([  3. ,  47.7,  92.4, 137.1, 181.8, 226.5, 271.2, 315.9, 360.6,\n",
       "        405.3, 450. ]),\n",
       " <BarContainer object of 10 artists>)"
      ]
     },
     "execution_count": 79,
     "metadata": {},
     "output_type": "execute_result"
    },
    {
     "data": {
      "image/png": "[encoded data removed]",
      "text/plain": [
       "<Figure size 432x288 with 1 Axes>"
      ]
     },
     "metadata": {
      "needs_background": "light"
     },
     "output_type": "display_data"
    }
   ],
   "source": [
    "from matplotlib import pyplot as plt\n",
    "\n",
    "plt.hist(pulse[pulse['label'] == 1]['mean_length'])"
   ]
  },
  {
   "cell_type": "code",
   "execution_count": 80,
   "metadata": {},
   "outputs": [
    {
     "data": {
      "text/plain": [
       "(array([ 8353., 10307.,  6139.,  3432.,  2129.,  1214.,   767.,   495.,\n",
       "          366.,   264.]),\n",
       " array([  3. ,  52.7, 102.4, 152.1, 201.8, 251.5, 301.2, 350.9, 400.6,\n",
       "        450.3, 500. ]),\n",
       " <BarContainer object of 10 artists>)"
      ]
     },
     "execution_count": 80,
     "metadata": {},
     "output_type": "execute_result"
    },
    {
     "data": {
      "image/png": "[encoded data removed]",
      "text/plain": [
       "<Figure size 432x288 with 1 Axes>"
      ]
     },
     "metadata": {
      "needs_background": "light"
     },
     "output_type": "display_data"
    }
   ],
   "source": [
    "plt.hist(pulse[pulse['label'] == 0]['mean_length'])"
   ]
  },
  {
   "cell_type": "code",
   "execution_count": null,
   "metadata": {
    "collapsed": true
   },
   "outputs": [],
   "source": []
  }
 ],
 "metadata": {
  "kernelspec": {
   "display_name": "YSDA",
   "language": "python",
   "name": "ysda"
  },
  "language_info": {
   "codemirror_mode": {
    "name": "ipython",
    "version": 3
   },
   "file_extension": ".py",
   "mimetype": "text/x-python",
   "name": "python",
   "nbconvert_exporter": "python",
   "pygments_lexer": "ipython3",
   "version": "3.6.12"
  }
 },
 "nbformat": 4,
 "nbformat_minor": 4
}
